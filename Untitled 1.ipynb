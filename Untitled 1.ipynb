{
 "cells": [
  {
   "cell_type": "code",
   "execution_count": 9,
   "id": "b79bdf8b",
   "metadata": {},
   "outputs": [
    {
     "name": "stdout",
     "output_type": "stream",
     "text": [
      "enter first number5\n",
      "enter second number4\n",
      "9\n"
     ]
    }
   ],
   "source": [
    "p=int(input(\"enter first number\"))\n",
    "q=int(input(\"enter second number\"))\n",
    "r=p+q\n",
    "print(r)"
   ]
  },
  {
   "cell_type": "code",
   "execution_count": 12,
   "id": "4eb976c1",
   "metadata": {},
   "outputs": [
    {
     "name": "stdout",
     "output_type": "stream",
     "text": [
      "no discount\n"
     ]
    }
   ],
   "source": [
    "a=300\n",
    "if(a>1000):\n",
    "    discount=a*0.1\n",
    "    amount=a-discount\n",
    "    print(amount)\n",
    "else:\n",
    "    print(\"no discount\")"
   ]
  },
  {
   "cell_type": "code",
   "execution_count": 15,
   "id": "6a399c06",
   "metadata": {},
   "outputs": [
    {
     "name": "stdout",
     "output_type": "stream",
     "text": [
      "he cant vote\n"
     ]
    }
   ],
   "source": [
    "a=10\n",
    "if(a>=18):\n",
    "    print(\"he can vote\")\n",
    "elif(a>=18 and a>=25):\n",
    "    print(\"he can vote and participate in election\")\n",
    "else:\n",
    "    print(\"he cant vote\")"
   ]
  },
  {
   "cell_type": "code",
   "execution_count": 7,
   "id": "865265ea",
   "metadata": {},
   "outputs": [
    {
     "name": "stdout",
     "output_type": "stream",
     "text": [
      "enter your word1\n",
      "jan\n"
     ]
    }
   ],
   "source": [
    "a=input(\"enter your word\")\n",
    "if(a==\"1\"):\n",
    "   print(\"jan\")\n",
    "else:\n",
    "    print(\"invalid\")\n",
    "    \n",
    "\n",
    "         "
   ]
  },
  {
   "cell_type": "code",
   "execution_count": 2,
   "id": "1748f59b",
   "metadata": {},
   "outputs": [
    {
     "name": "stdout",
     "output_type": "stream",
     "text": [
      "16\n"
     ]
    }
   ],
   "source": [
    "p=9\n",
    "q=7\n",
    "r=p+q\n",
    "print(r)"
   ]
  },
  {
   "cell_type": "code",
   "execution_count": 3,
   "id": "f4d74b6d",
   "metadata": {},
   "outputs": [
    {
     "name": "stdout",
     "output_type": "stream",
     "text": [
      "17\n"
     ]
    }
   ],
   "source": [
    "p=8\n",
    "o=9\n",
    "print(p+o)"
   ]
  },
  {
   "cell_type": "code",
   "execution_count": null,
   "id": "011d2879",
   "metadata": {},
   "outputs": [],
   "source": []
  },
  {
   "cell_type": "code",
   "execution_count": null,
   "id": "52b4c237",
   "metadata": {},
   "outputs": [],
   "source": []
  }
 ],
 "metadata": {
  "kernelspec": {
   "display_name": "Python 3 (ipykernel)",
   "language": "python",
   "name": "python3"
  },
  "language_info": {
   "codemirror_mode": {
    "name": "ipython",
    "version": 3
   },
   "file_extension": ".py",
   "mimetype": "text/x-python",
   "name": "python",
   "nbconvert_exporter": "python",
   "pygments_lexer": "ipython3",
   "version": "3.11.4"
  }
 },
 "nbformat": 4,
 "nbformat_minor": 5
}
