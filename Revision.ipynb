{
 "cells": [
  {
   "cell_type": "code",
   "execution_count": 1,
   "id": "11bf3df1",
   "metadata": {},
   "outputs": [
    {
     "name": "stdout",
     "output_type": "stream",
     "text": [
      "which number is largest\n",
      "enter your first number5\n",
      "enter your second number6\n",
      "enter your third number7\n",
      "c is largest\n"
     ]
    }
   ],
   "source": [
    "print(\"which number is largest\")\n",
    "a=int(input(\"enter your first number\"))\n",
    "b=int(input(\"enter your second number\"))\n",
    "c=int(input(\"enter your third number\"))\n",
    "if((a>b)and(a>c)):\n",
    "    print(\"a is largest\")\n",
    "elif((b>a)and(b>c)):\n",
    "    print(\"b is largest\")\n",
    "else:\n",
    "    print(\"c is largest\")"
   ]
  },
  {
   "cell_type": "code",
   "execution_count": 2,
   "id": "ffe95e38",
   "metadata": {},
   "outputs": [],
   "source": [
    "a=10\n",
    "b=5"
   ]
  },
  {
   "cell_type": "code",
   "execution_count": 4,
   "id": "22c4e214",
   "metadata": {},
   "outputs": [
    {
     "data": {
      "text/plain": [
       "10"
      ]
     },
     "execution_count": 4,
     "metadata": {},
     "output_type": "execute_result"
    }
   ],
   "source": [
    "a+b"
   ]
  },
  {
   "cell_type": "code",
   "execution_count": 5,
   "id": "bd51af37",
   "metadata": {},
   "outputs": [
    {
     "name": "stdout",
     "output_type": "stream",
     "text": [
      "a\n"
     ]
    }
   ],
   "source": [
    "a=10\n",
    "print(\"a\")"
   ]
  },
  {
   "cell_type": "code",
   "execution_count": 6,
   "id": "6776caf8",
   "metadata": {},
   "outputs": [
    {
     "name": "stdout",
     "output_type": "stream",
     "text": [
      "10\n"
     ]
    }
   ],
   "source": [
    "print(a)"
   ]
  },
  {
   "cell_type": "code",
   "execution_count": 17,
   "id": "3278d490",
   "metadata": {},
   "outputs": [
    {
     "name": "stdout",
     "output_type": "stream",
     "text": [
      "enter your number111\n",
      "it is mulitiple of 111\n"
     ]
    }
   ],
   "source": [
    "a=int(input(\"enter your number\"))\n",
    "if(a%111==0):\n",
    "    print(\"it is mulitiple of 111\")\n",
    "else:\n",
    "    print(\"not mulitip[le of 111\")"
   ]
  },
  {
   "cell_type": "code",
   "execution_count": 15,
   "id": "87338087",
   "metadata": {},
   "outputs": [
    {
     "name": "stdout",
     "output_type": "stream",
     "text": [
      "is it possible to give DISCOUNT\n",
      "enter your price2000\n",
      "1800.0\n"
     ]
    }
   ],
   "source": [
    "print(\"is it possible to give DISCOUNT\")\n",
    "A=int(input(\"enter your price\"))\n",
    "if(A>1000):\n",
    "    discount=A*0.1\n",
    "    amount=A-discount\n",
    "    print(amount)\n",
    "else:\n",
    "    print(\"no discount\")"
   ]
  },
  {
   "cell_type": "code",
   "execution_count": 25,
   "id": "34e5c120",
   "metadata": {},
   "outputs": [
    {
     "name": "stdout",
     "output_type": "stream",
     "text": [
      "enter your first number2\n",
      "enter your second number8\n",
      "valid\n"
     ]
    }
   ],
   "source": [
    "a=int(input(\"enter your first number\"))\n",
    "b=int(input(\"enter your second number\"))\n",
    "c=a+b\n",
    "if((c==10)):\n",
    "    print(\"valid\")\n",
    "else:\n",
    "    print(\"invalid\")\n",
    "    "
   ]
  },
  {
   "cell_type": "code",
   "execution_count": 26,
   "id": "e9ba5dcc",
   "metadata": {},
   "outputs": [
    {
     "name": "stdout",
     "output_type": "stream",
     "text": [
      "0\n",
      "1\n",
      "2\n",
      "3\n",
      "4\n",
      "5\n",
      "6\n",
      "7\n",
      "8\n",
      "9\n"
     ]
    }
   ],
   "source": [
    "Range=range(0,10)\n",
    "for i in Range:\n",
    "    print(i)"
   ]
  },
  {
   "cell_type": "code",
   "execution_count": 27,
   "id": "4198be94",
   "metadata": {},
   "outputs": [
    {
     "name": "stdout",
     "output_type": "stream",
     "text": [
      "a\n",
      "t\n",
      "h\n",
      "u\n",
      "l\n",
      " \n",
      "m\n",
      " \n",
      "k\n"
     ]
    }
   ],
   "source": [
    "a=\"athul m k\"\n",
    "for i in a:\n",
    "    print(i)"
   ]
  },
  {
   "cell_type": "code",
   "execution_count": null,
   "id": "14a8280d",
   "metadata": {},
   "outputs": [],
   "source": []
  }
 ],
 "metadata": {
  "kernelspec": {
   "display_name": "Python 3 (ipykernel)",
   "language": "python",
   "name": "python3"
  },
  "language_info": {
   "codemirror_mode": {
    "name": "ipython",
    "version": 3
   },
   "file_extension": ".py",
   "mimetype": "text/x-python",
   "name": "python",
   "nbconvert_exporter": "python",
   "pygments_lexer": "ipython3",
   "version": "3.11.4"
  }
 },
 "nbformat": 4,
 "nbformat_minor": 5
}
