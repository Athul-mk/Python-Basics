{
 "cells": [
  {
   "cell_type": "code",
   "execution_count": 1,
   "id": "28ca7918",
   "metadata": {},
   "outputs": [],
   "source": [
    "# range =[\"0\",\"10\"]\n",
    "# for i in range:\n",
    "#     print(range)\n",
    "        \n",
    "    "
   ]
  },
  {
   "cell_type": "code",
   "execution_count": 2,
   "id": "be265d92",
   "metadata": {},
   "outputs": [
    {
     "name": "stdout",
     "output_type": "stream",
     "text": [
      "0\n",
      "1\n",
      "2\n",
      "3\n",
      "4\n",
      "5\n",
      "6\n",
      "7\n",
      "8\n",
      "9\n"
     ]
    }
   ],
   "source": [
    "for i in range(0,10):\n",
    "    print(i) "
   ]
  },
  {
   "cell_type": "code",
   "execution_count": 16,
   "id": "4ff182e2",
   "metadata": {},
   "outputs": [
    {
     "name": "stdout",
     "output_type": "stream",
     "text": [
      "a\n",
      "t\n",
      "h\n",
      "u\n",
      "l\n"
     ]
    }
   ],
   "source": [
    "a=\"athul\"\n",
    "for i in a:\n",
    "    print(i)"
   ]
  },
  {
   "cell_type": "code",
   "execution_count": 2,
   "id": "f1e75d39",
   "metadata": {},
   "outputs": [
    {
     "name": "stdout",
     "output_type": "stream",
     "text": [
      "a\n",
      "b\n",
      "c\n",
      "d\n",
      "e\n",
      "f\n",
      "g\n",
      "h\n",
      "i\n",
      "j\n",
      "k\n",
      "l\n",
      "m\n",
      "n\n",
      "o\n",
      "p\n",
      "q\n",
      "r\n",
      "s\n",
      "t\n"
     ]
    }
   ],
   "source": [
    "a=\"abcdefghijklmnopqrst\"\n",
    "for i in a:\n",
    "    print(i)\n",
    "   "
   ]
  },
  {
   "cell_type": "code",
   "execution_count": 17,
   "id": "84b1b650",
   "metadata": {},
   "outputs": [
    {
     "name": "stdout",
     "output_type": "stream",
     "text": [
      "0\n",
      "1\n",
      "2\n",
      "3\n",
      "4\n",
      "5\n",
      "6\n",
      "7\n",
      "8\n",
      "9\n"
     ]
    }
   ],
   "source": [
    "for i in range(0,10):\n",
    "    print(i)"
   ]
  },
  {
   "cell_type": "code",
   "execution_count": 5,
   "id": "18e44d3c",
   "metadata": {},
   "outputs": [
    {
     "name": "stdout",
     "output_type": "stream",
     "text": [
      "a\n",
      "t\n",
      "h\n",
      "u\n",
      "l\n"
     ]
    }
   ],
   "source": [
    "s=\"athul\"\n",
    "for a in s:\n",
    "    print (a)\n"
   ]
  },
  {
   "cell_type": "code",
   "execution_count": 31,
   "id": "d10a615a",
   "metadata": {},
   "outputs": [
    {
     "name": "stdout",
     "output_type": "stream",
     "text": [
      "a\n",
      "b\n",
      "c\n",
      "d\n",
      "e\n",
      "f\n"
     ]
    }
   ],
   "source": [
    "word=\"abcdef\"\n",
    "for letter in word:\n",
    "    print(letter)"
   ]
  },
  {
   "cell_type": "code",
   "execution_count": 32,
   "id": "e0737dfd",
   "metadata": {},
   "outputs": [
    {
     "name": "stdout",
     "output_type": "stream",
     "text": [
      "a\n",
      "n\n",
      "a\n",
      "c\n",
      "o\n",
      "n\n",
      "d\n",
      "a\n"
     ]
    }
   ],
   "source": [
    "word=\"anaconda\"\n",
    "for letter in word:\n",
    "\tprint (letter)"
   ]
  },
  {
   "cell_type": "code",
   "execution_count": 46,
   "id": "70230ca8",
   "metadata": {},
   "outputs": [
    {
     "name": "stdout",
     "output_type": "stream",
     "text": [
      "shirt\n",
      "t shirt\n",
      "jeans\n"
     ]
    }
   ],
   "source": [
    "dresses=[\"shirt\",\"t shirt\",\"jeans\"]\n",
    "for dress in dresses:\n",
    "    # for each iteration print the value of dress\n",
    "    print (dress)"
   ]
  },
  {
   "cell_type": "code",
   "execution_count": null,
   "id": "ff4c69be",
   "metadata": {},
   "outputs": [],
   "source": []
  }
 ],
 "metadata": {
  "kernelspec": {
   "display_name": "Python 3 (ipykernel)",
   "language": "python",
   "name": "python3"
  },
  "language_info": {
   "codemirror_mode": {
    "name": "ipython",
    "version": 3
   },
   "file_extension": ".py",
   "mimetype": "text/x-python",
   "name": "python",
   "nbconvert_exporter": "python",
   "pygments_lexer": "ipython3",
   "version": "3.11.4"
  }
 },
 "nbformat": 4,
 "nbformat_minor": 5
}
