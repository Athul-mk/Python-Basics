{
 "cells": [
  {
   "cell_type": "code",
   "execution_count": null,
   "id": "49512a95",
   "metadata": {},
   "outputs": [],
   "source": []
  },
  {
   "cell_type": "code",
   "execution_count": 8,
   "id": "fec8dafa",
   "metadata": {},
   "outputs": [
    {
     "name": "stdout",
     "output_type": "stream",
     "text": [
      "2\n",
      "4\n",
      "6\n",
      "8\n",
      "1\n",
      "0\n"
     ]
    }
   ],
   "source": [
    "s=(\"246810\")\n",
    "for i in s:\n",
    "    print(i)\n"
   ]
  },
  {
   "cell_type": "code",
   "execution_count": 24,
   "id": "cc39cf84",
   "metadata": {},
   "outputs": [
    {
     "name": "stdout",
     "output_type": "stream",
     "text": [
      "Enter the number you want to create a multiplication table:5\n",
      "5  *  1  =  5\n",
      "5  *  2  =  10\n",
      "5  *  3  =  15\n",
      "5  *  4  =  20\n",
      "5  *  5  =  25\n"
     ]
    }
   ],
   "source": [
    "Num = int(input(\"Enter the number to create a multiplication table:\"))\n",
    "Range = range(1,6)\n",
    "for i in Range:\n",
    "    result = Num * i\n",
    "    print(Num,\" * \",i,\" = \",result)"
   ]
  },
  {
   "cell_type": "code",
   "execution_count": 3,
   "id": "ba7d7ac6",
   "metadata": {},
   "outputs": [
    {
     "name": "stdout",
     "output_type": "stream",
     "text": [
      "enter the value for finding the area of a circle 6\n",
      "area * 6  *  3.14  =  113.03999999999999\n"
     ]
    }
   ],
   "source": [
    "area =int(input(\"enter the value for finding the area of a circle \"))\n",
    "Range = range(1,2)\n",
    "for i in Range:\n",
    "    result = 3.14 * area * area\n",
    "    print(\"area\", \"*\" ,area, \" * \", 3.14, \" = \",result)"
   ]
  },
  {
   "cell_type": "code",
   "execution_count": 54,
   "id": "08fa65fe",
   "metadata": {},
   "outputs": [
    {
     "name": "stdout",
     "output_type": "stream",
     "text": [
      "enter the value for length 6\n",
      "enter the value for breadth 5\n",
      "6  *  5  =  30\n"
     ]
    }
   ],
   "source": [
    "length =int(input(\"enter the value for length \"))\n",
    "breadth = int(input(\"enter the value for breadth \"))\n",
    "Range = range(1,2)\n",
    "for i in Range:\n",
    "    result=length * breadth\n",
    "    print(length,\" * \",breadth, \" = \",result)"
   ]
  },
  {
   "cell_type": "code",
   "execution_count": null,
   "id": "a091ac84",
   "metadata": {},
   "outputs": [],
   "source": []
  }
 ],
 "metadata": {
  "kernelspec": {
   "display_name": "Python 3 (ipykernel)",
   "language": "python",
   "name": "python3"
  },
  "language_info": {
   "codemirror_mode": {
    "name": "ipython",
    "version": 3
   },
   "file_extension": ".py",
   "mimetype": "text/x-python",
   "name": "python",
   "nbconvert_exporter": "python",
   "pygments_lexer": "ipython3",
   "version": "3.11.4"
  }
 },
 "nbformat": 4,
 "nbformat_minor": 5
}
