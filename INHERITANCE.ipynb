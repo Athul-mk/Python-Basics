{
 "cells": [
  {
   "cell_type": "code",
   "execution_count": null,
   "id": "7674d3b1",
   "metadata": {},
   "outputs": [],
   "source": [
    "\n",
    "        "
   ]
  },
  {
   "cell_type": "code",
   "execution_count": 18,
   "id": "06ec2f6f",
   "metadata": {},
   "outputs": [
    {
     "name": "stdout",
     "output_type": "stream",
     "text": [
      "hello\n",
      "25\n",
      "kozhikode\n",
      "5\n"
     ]
    }
   ],
   "source": [
    "class person:\n",
    "    def __init__(self,n,a,p,r):\n",
    "        self.name=n\n",
    "        self.age=a\n",
    "        self.place=p\n",
    "        self.rank=r\n",
    "a=person(\"hii\",23,\"calicut\",6)\n",
    "\n",
    "class student(person):\n",
    "    pass\n",
    "x=student(\"hello\",25,\"kozhikode\",5)\n",
    "print(x.name)\n",
    "print(x.age)\n",
    "print(x.place)\n",
    "print(x.rank)"
   ]
  },
  {
   "cell_type": "code",
   "execution_count": 20,
   "id": "ed62f816",
   "metadata": {},
   "outputs": [
    {
     "name": "stdout",
     "output_type": "stream",
     "text": [
      "hello\n",
      "23\n",
      "calicut\n",
      "xyz\n"
     ]
    }
   ],
   "source": [
    "class person:\n",
    "    def printname(self):\n",
    "        print(\"hii\")\n",
    "    def printage(self):\n",
    "        print(23)\n",
    "    def printplace(self):\n",
    "        print(\"calicut\")\n",
    "class student(person):\n",
    "    def printname(self):\n",
    "        print(\"hello\")\n",
    "    def printschool(self):\n",
    "        print(\"xyz\")\n",
    "obj=student()\n",
    "obj.printname()\n",
    "obj.printage()\n",
    "obj.printplace()\n",
    "obj.printschool()\n",
    "        "
   ]
  },
  {
   "cell_type": "code",
   "execution_count": 23,
   "id": "c75f22e3",
   "metadata": {},
   "outputs": [
    {
     "name": "stdout",
     "output_type": "stream",
     "text": [
      "ashok leyland\n",
      "Tvm to Kkd\n",
      "Rs.1000\n",
      "20\n"
     ]
    }
   ],
   "source": [
    "class vehicle:\n",
    "    def printname(self):\n",
    "        print(\"volvo\")\n",
    "    def printroute(self):\n",
    "        print(\"Tvm to Kkd\")\n",
    "    def printticket(self):\n",
    "        print(\"Rs.1500\")\n",
    "    def printseatno(self):\n",
    "        print(20)\n",
    "class Bus(vehicle):\n",
    "    def printname(self):\n",
    "        print(\"ashok leyland\")\n",
    "    def printticket(self):\n",
    "        print(\"Rs.1000\")\n",
    "obj=Bus()\n",
    "obj.printname()\n",
    "obj.printroute()\n",
    "obj.printticket()\n",
    "obj.printseatno()\n",
    "    \n",
    "    \n",
    "    "
   ]
  },
  {
   "cell_type": "code",
   "execution_count": 33,
   "id": "7a98336f",
   "metadata": {},
   "outputs": [
    {
     "name": "stdout",
     "output_type": "stream",
     "text": [
      "volvo\n",
      "Tvm to Kkd\n",
      "Rs.1500\n",
      "20\n",
      "80\n"
     ]
    }
   ],
   "source": [
    "class vehicle:\n",
    "    def printname(self):\n",
    "        print(\"volvo\")\n",
    "    def printroute(self):\n",
    "        print(\"Tvm to Kkd\")\n",
    "    def printticket(self):\n",
    "        print(\"Rs.1500\")\n",
    "    def printseatno(self):\n",
    "        print(20)\n",
    "class Bus(vehicle):\n",
    "    def printbusseatingcapacity(self,capacity=80):\n",
    "        \n",
    "        print(capacity)\n",
    "obj=Bus()\n",
    "obj.printname()\n",
    "obj.printroute()\n",
    "obj.printticket()\n",
    "obj.printseatno()\n",
    "obj.printbusseatingcapacity()\n",
    "    "
   ]
  },
  {
   "cell_type": "code",
   "execution_count": 31,
   "id": "bfdfc691",
   "metadata": {},
   "outputs": [
    {
     "name": "stdout",
     "output_type": "stream",
     "text": [
      "tommy\n",
      "2\n",
      "Husky\n",
      "10000\n",
      "calicut\n"
     ]
    }
   ],
   "source": [
    "class animal:\n",
    "    def printname(self):\n",
    "        print(\"BOW\")\n",
    "    def printage(self):\n",
    "        print(\"2\")\n",
    "    def printbreed(self):\n",
    "        print(\"Husky\")\n",
    "class dog(animal):\n",
    "    def printprice(self):\n",
    "        print(10000)\n",
    "class puppy (dog):\n",
    "    def printname(self):\n",
    "        print(\"tommy\")\n",
    "    def printplace(self):\n",
    "        print(\"calicut\")\n",
    "obj=puppy()\n",
    "obj.printname()\n",
    "obj.printage()\n",
    "obj.printbreed()\n",
    "obj.printprice()\n",
    "obj.printplace()\n",
    "        "
   ]
  },
  {
   "cell_type": "code",
   "execution_count": null,
   "id": "198f5f65",
   "metadata": {},
   "outputs": [],
   "source": []
  },
  {
   "cell_type": "code",
   "execution_count": null,
   "id": "945dc14a",
   "metadata": {},
   "outputs": [],
   "source": [
    "  "
   ]
  },
  {
   "cell_type": "code",
   "execution_count": 42,
   "id": "749f3085",
   "metadata": {},
   "outputs": [
    {
     "name": "stdout",
     "output_type": "stream",
     "text": [
      "3\n",
      "2\n",
      "0.5\n"
     ]
    }
   ],
   "source": [
    "class calculation1:\n",
    "    def summation(self,a,b):\n",
    "        return a+b;\n",
    "\n",
    "class calculation2:\n",
    "    def mulitiplication(self,a,b):\n",
    "        return a*b;\n",
    "class derived(calculation1,calculation2):\n",
    "    def divide(self,a,b):\n",
    "        return a/b;\n",
    "d=derived()\n",
    "print(d.summation(1,2))\n",
    "print(d.mulitiplication(1,2))\n",
    "print(d.divide(1,2))\n"
   ]
  },
  {
   "cell_type": "code",
   "execution_count": null,
   "id": "f5949982",
   "metadata": {},
   "outputs": [],
   "source": []
  }
 ],
 "metadata": {
  "kernelspec": {
   "display_name": "Python 3 (ipykernel)",
   "language": "python",
   "name": "python3"
  },
  "language_info": {
   "codemirror_mode": {
    "name": "ipython",
    "version": 3
   },
   "file_extension": ".py",
   "mimetype": "text/x-python",
   "name": "python",
   "nbconvert_exporter": "python",
   "pygments_lexer": "ipython3",
   "version": "3.11.4"
  }
 },
 "nbformat": 4,
 "nbformat_minor": 5
}
