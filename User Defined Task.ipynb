{
 "cells": [
  {
   "cell_type": "code",
   "execution_count": 14,
   "id": "c0faccb7",
   "metadata": {},
   "outputs": [
    {
     "name": "stdout",
     "output_type": "stream",
     "text": [
      "it is not a mulitiplication of 5\n"
     ]
    }
   ],
   "source": [
    "\n",
    "def mulitiplication(a):\n",
    "    if(a%5==0):\n",
    "        print(\"it is a mulitiplication of 5\")\n",
    "    else:\n",
    "        print(\"it is not a mulitiplication of 5\")\n",
    "mulitiplication(16)"
   ]
  },
  {
   "cell_type": "code",
   "execution_count": 62,
   "id": "9d68b75f",
   "metadata": {},
   "outputs": [
    {
     "name": "stdout",
     "output_type": "stream",
     "text": [
      "it is not a leap year\n"
     ]
    }
   ],
   "source": [
    "def leapyear(a):\n",
    "    if(a%4==0):\n",
    "        print(\"it is a leap year\")\n",
    "    else:\n",
    "        print(\"it is not a leap year\")\n",
    "leapyear(2026)"
   ]
  },
  {
   "cell_type": "code",
   "execution_count": 25,
   "id": "2c6796c1",
   "metadata": {},
   "outputs": [
    {
     "name": "stdout",
     "output_type": "stream",
     "text": [
      "2700.0\n"
     ]
    }
   ],
   "source": [
    "def discount_given(a):\n",
    "    if(a>1000):\n",
    "        discount=a*0.1\n",
    "        amount=a-discount\n",
    "        print(amount)\n",
    "    else:\n",
    "        print(\"no discount\")\n",
    "discount_given(3000)\n",
    "        \n",
    "        "
   ]
  },
  {
   "cell_type": "code",
   "execution_count": 32,
   "id": "65b998ab",
   "metadata": {},
   "outputs": [
    {
     "name": "stdout",
     "output_type": "stream",
     "text": [
      "invalid\n"
     ]
    }
   ],
   "source": [
    "def print_month(a):\n",
    "    if(a==1):\n",
    "        print(\"jan\")\n",
    "    elif(a==2):\n",
    "        print(\"feb\")\n",
    "    elif(a==3):\n",
    "        print(\"mar\")\n",
    "    elif(a==4):\n",
    "        print(\"apr\")\n",
    "    elif(a==5):\n",
    "        print(\"may\")\n",
    "    elif(a==6):\n",
    "        print(\"jun\")\n",
    "    elif(a==7):\n",
    "        print(\"jul\")\n",
    "    elif(a==8):\n",
    "        print(\"aug\")\n",
    "    elif(a==9):\n",
    "        print(\"sep\")\n",
    "    elif(a==10):\n",
    "        print(\"oct\")\n",
    "    elif(a==11):\n",
    "        print(\"nov\")\n",
    "    elif(a==12):\n",
    "        print(\"dec\")\n",
    "    else:\n",
    "        print(\"invalid\")\n",
    "print_month(13)"
   ]
  },
  {
   "cell_type": "code",
   "execution_count": 63,
   "id": "cf8b59a0",
   "metadata": {},
   "outputs": [
    {
     "name": "stdout",
     "output_type": "stream",
     "text": [
      "he/she can't vote\n"
     ]
    }
   ],
   "source": [
    "def enter_age(a):\n",
    "    if(a<18):\n",
    "        print(\"he/she can't vote\")\n",
    "    elif((a>18) and (a>=25)):\n",
    "        print(\"he/she can vote and contest an election\")\n",
    "    else:\n",
    "        print(\"he/she can vote\")\n",
    "enter_age(10)"
   ]
  },
  {
   "cell_type": "code",
   "execution_count": 60,
   "id": "9a366a22",
   "metadata": {},
   "outputs": [
    {
     "name": "stdout",
     "output_type": "stream",
     "text": [
      "red\n"
     ]
    }
   ],
   "source": [
    "def enteryour_colour(b):\n",
    "    if((b==\"v\")or(b==\"V\")):\n",
    "        print(\"violet\")\n",
    "    elif((b==\"i\")or(b==\"I\")):\n",
    "        print(\"indigo\")\n",
    "    elif((b==\"b\")or(b==\"B\")):\n",
    "        print(\"blue\")\n",
    "    elif((b==\"g\")or(b==\"G\")):\n",
    "        print(\"green\")\n",
    "    elif((b==\"y\")or(b==\"Y\")):\n",
    "        print(\"yellow\")\n",
    "    elif((b==\"o\")or(b==\"O\")):\n",
    "        print(\"orange\")\n",
    "    elif((b==\"r\")or(b==\"R\")):\n",
    "        print(\"red\")\n",
    "    else:\n",
    "        print(\"invalid\")\n",
    "enteryour_colour(\"r\")\n",
    "    "
   ]
  },
  {
   "cell_type": "code",
   "execution_count": 64,
   "id": "39748e19",
   "metadata": {},
   "outputs": [
    {
     "name": "stdout",
     "output_type": "stream",
     "text": [
      "he/she can vote and contest an election\n"
     ]
    }
   ],
   "source": [
    "enter_age(26)"
   ]
  },
  {
   "cell_type": "code",
   "execution_count": 68,
   "id": "04d6d020",
   "metadata": {},
   "outputs": [
    {
     "name": "stdout",
     "output_type": "stream",
     "text": [
      "indigo\n"
     ]
    }
   ],
   "source": [
    "enteryour_colour(\"i\")"
   ]
  },
  {
   "cell_type": "code",
   "execution_count": 72,
   "id": "c327c988",
   "metadata": {},
   "outputs": [
    {
     "name": "stdout",
     "output_type": "stream",
     "text": [
      "it is not a mulitiplication of 5\n"
     ]
    }
   ],
   "source": [
    "mulitiplication(607)"
   ]
  },
  {
   "cell_type": "code",
   "execution_count": 74,
   "id": "94e09669",
   "metadata": {},
   "outputs": [
    {
     "name": "stdout",
     "output_type": "stream",
     "text": [
      "invalid\n"
     ]
    }
   ],
   "source": [
    "print_month(14)"
   ]
  },
  {
   "cell_type": "code",
   "execution_count": 76,
   "id": "715e7578",
   "metadata": {},
   "outputs": [
    {
     "name": "stdout",
     "output_type": "stream",
     "text": [
      "9000.0\n"
     ]
    }
   ],
   "source": [
    "discount_given(10000)"
   ]
  },
  {
   "cell_type": "code",
   "execution_count": 77,
   "id": "2f94a18d",
   "metadata": {},
   "outputs": [
    {
     "name": "stdout",
     "output_type": "stream",
     "text": [
      "hhhh\n"
     ]
    }
   ],
   "source": [
    "print(\"hhhh\")"
   ]
  },
  {
   "cell_type": "code",
   "execution_count": null,
   "id": "4dd59031",
   "metadata": {},
   "outputs": [],
   "source": []
  }
 ],
 "metadata": {
  "kernelspec": {
   "display_name": "Python 3 (ipykernel)",
   "language": "python",
   "name": "python3"
  },
  "language_info": {
   "codemirror_mode": {
    "name": "ipython",
    "version": 3
   },
   "file_extension": ".py",
   "mimetype": "text/x-python",
   "name": "python",
   "nbconvert_exporter": "python",
   "pygments_lexer": "ipython3",
   "version": "3.11.4"
  }
 },
 "nbformat": 4,
 "nbformat_minor": 5
}
