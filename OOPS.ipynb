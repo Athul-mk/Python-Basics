{
 "cells": [
  {
   "cell_type": "code",
   "execution_count": 27,
   "id": "6c747a3c",
   "metadata": {},
   "outputs": [
    {
     "name": "stdout",
     "output_type": "stream",
     "text": [
      "Athul.M.K\n",
      "23\n"
     ]
    }
   ],
   "source": [
    "class student:\n",
    "    def __init__(self,n,a):\n",
    "        self.name=n\n",
    "        self.age=a\n",
    "    \n",
    "maitexa = student(\"Athul.M.K\",23)\n",
    "\n",
    "print(maitexa.name)\n",
    "print(maitexa.age)"
   ]
  },
  {
   "cell_type": "code",
   "execution_count": 21,
   "id": "50060023",
   "metadata": {},
   "outputs": [
    {
     "name": "stdout",
     "output_type": "stream",
     "text": [
      "R8\n",
      "100000\n"
     ]
    }
   ],
   "source": [
    "class Cars:\n",
    "  def __init__(self, m, p):\n",
    "    self.model = m\n",
    "    self.price = p\n",
    " \n",
    "audi = Cars(\"R8\", 100000)\n",
    " \n",
    "print(Audi.model)\n",
    "print(Audi.price)"
   ]
  },
  {
   "cell_type": "code",
   "execution_count": 23,
   "id": "b21469f8",
   "metadata": {},
   "outputs": [
    {
     "name": "stdout",
     "output_type": "stream",
     "text": [
      "DESIRE\n",
      "1000000\n"
     ]
    }
   ],
   "source": [
    "class cars1:\n",
    "    def __init__(self,m,p):\n",
    "        self.model=m\n",
    "        self.price=p\n",
    "swift =cars1(\"DESIRE\",1000000) \n",
    "print(swift.model)\n",
    "print(swift.price)"
   ]
  },
  {
   "cell_type": "code",
   "execution_count": 28,
   "id": "48c075b7",
   "metadata": {},
   "outputs": [
    {
     "name": "stdout",
     "output_type": "stream",
     "text": [
      "Capital of  India is:Delhi\n"
     ]
    }
   ],
   "source": [
    "class Test:\n",
    "  def __init__(Myobject, a, b):\n",
    "    Myobject.country = a\n",
    "    Myobject.capital = b\n",
    " \n",
    "  def myfunc(abc):\n",
    "    print(\"Capital of  \" + abc.country +\" is:\"+abc.capital)\n",
    " \n",
    "x = Test(\"India\", \"Delhi\")\n",
    "x.myfunc()"
   ]
  },
  {
   "cell_type": "code",
   "execution_count": null,
   "id": "7719869a",
   "metadata": {},
   "outputs": [],
   "source": []
  }
 ],
 "metadata": {
  "kernelspec": {
   "display_name": "Python 3 (ipykernel)",
   "language": "python",
   "name": "python3"
  },
  "language_info": {
   "codemirror_mode": {
    "name": "ipython",
    "version": 3
   },
   "file_extension": ".py",
   "mimetype": "text/x-python",
   "name": "python",
   "nbconvert_exporter": "python",
   "pygments_lexer": "ipython3",
   "version": "3.11.4"
  }
 },
 "nbformat": 4,
 "nbformat_minor": 5
}
