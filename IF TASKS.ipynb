{
 "cells": [
  {
   "cell_type": "code",
   "execution_count": 1,
   "id": "36922af3",
   "metadata": {},
   "outputs": [
    {
     "name": "stdout",
     "output_type": "stream",
     "text": [
      "enter your alphabet:\n",
      "The alphabet  is a consonant\n"
     ]
    }
   ],
   "source": [
    "hii = input(\"enter your alphabet:\")\n",
    "hello = [\"a\",\"e\",\"i\",\"o\",\"u\",\"A\",\"E\",\"I\",\"O\",\"U\"]\n",
    "if hii in hello:\n",
    "    print(f\"The alphabet {hii} is a vowel\")\n",
    "else:\n",
    "    print(f\"The alphabet {hii} is a consonant\")\n",
    "            "
   ]
  },
  {
   "cell_type": "code",
   "execution_count": 2,
   "id": "8077ed45",
   "metadata": {},
   "outputs": [
    {
     "name": "stdout",
     "output_type": "stream",
     "text": [
      "Enter a character: frfr\n",
      "The character frfr' is a consonant!\n"
     ]
    }
   ],
   "source": [
    "character = input(\"Enter a character: \")  \n",
    "vowels = ('a', 'e', 'i', 'o', 'u', 'A', 'E', 'I', 'O', 'U')  \n",
    "if character in vowels:  \n",
    "    print(f\"The character {character} is a vowel!\")  \n",
    "else:  \n",
    "    print(f\"The character {character}' is a consonant!\") "
   ]
  },
  {
   "cell_type": "code",
   "execution_count": 5,
   "id": "d2335808",
   "metadata": {},
   "outputs": [
    {
     "name": "stdout",
     "output_type": "stream",
     "text": [
      "enter your wordhii\n"
     ]
    },
    {
     "ename": "NameError",
     "evalue": "name 'returnword' is not defined",
     "output_type": "error",
     "traceback": [
      "\u001b[1;31m---------------------------------------------------------------------------\u001b[0m",
      "\u001b[1;31mNameError\u001b[0m                                 Traceback (most recent call last)",
      "Cell \u001b[1;32mIn[5], line 2\u001b[0m\n\u001b[0;32m      1\u001b[0m word\u001b[38;5;241m=\u001b[39m\u001b[38;5;28minput\u001b[39m(\u001b[38;5;124m\"\u001b[39m\u001b[38;5;124menter your word\u001b[39m\u001b[38;5;124m\"\u001b[39m)\n\u001b[1;32m----> 2\u001b[0m returnword\u001b[38;5;241m==\u001b[39m(word[::\u001b[38;5;241m-\u001b[39m\u001b[38;5;241m1\u001b[39m])\n\u001b[0;32m      3\u001b[0m ans\u001b[38;5;241m=\u001b[39m ispalindrome(word)\n\u001b[0;32m      4\u001b[0m \u001b[38;5;28;01mif\u001b[39;00m ans:\n",
      "\u001b[1;31mNameError\u001b[0m: name 'returnword' is not defined"
     ]
    }
   ],
   "source": [
    "word=input(\"enter your word\")\n",
    "returnword==(word[::-1])\n",
    "ans= ispalindrome(word)\n",
    "if ans:\n",
    "    print(\"yes\")\n",
    "else:\n",
    "    print(\"no\")"
   ]
  },
  {
   "cell_type": "code",
   "execution_count": 5,
   "id": "2d46c0dd",
   "metadata": {},
   "outputs": [
    {
     "name": "stdout",
     "output_type": "stream",
     "text": [
      "enter your stringccv\n",
      "ccv\n",
      "vcc\n",
      "the string is not palindrome\n"
     ]
    }
   ],
   "source": [
    "# a=list(input())\n",
    "\n",
    "# b=a.reverse()\n",
    "# a=str(a)\n",
    "# b=str(b)\n",
    "\n",
    "# print(b)\n",
    "# print(a,\"jfgfjyg\")\n",
    "\n",
    "# if (a==b):\n",
    "#     print(f\"it is {b} palindrome\")\n",
    "# else:\n",
    "#     print(f\"it is {b} not palindrome\")\n",
    "    \n",
    "    \n",
    "a=input(\"enter your string\")\n",
    "b= a[::-1]\n",
    "\n",
    "print(a)\n",
    "print(b)\n",
    "if(a==b):\n",
    "    print(\"the string is palindrome\")\n",
    "else:\n",
    "    print(\"the string is not palindrome\")"
   ]
  },
  {
   "cell_type": "code",
   "execution_count": 9,
   "id": "79eec976",
   "metadata": {},
   "outputs": [
    {
     "name": "stdout",
     "output_type": "stream",
     "text": [
      "456\n",
      "['4', '5', '6']\n"
     ]
    }
   ],
   "source": [
    "c=list(input())\n",
    "print(c)\n",
    "\n"
   ]
  },
  {
   "cell_type": "code",
   "execution_count": 7,
   "id": "82011383",
   "metadata": {},
   "outputs": [
    {
     "name": "stdout",
     "output_type": "stream",
     "text": [
      "None\n"
     ]
    }
   ],
   "source": []
  },
  {
   "cell_type": "code",
   "execution_count": 8,
   "id": "ca5c2442",
   "metadata": {},
   "outputs": [
    {
     "name": "stdout",
     "output_type": "stream",
     "text": [
      "ccv\n"
     ]
    }
   ],
   "source": []
  },
  {
   "cell_type": "code",
   "execution_count": null,
   "id": "847cf643",
   "metadata": {},
   "outputs": [],
   "source": []
  }
 ],
 "metadata": {
  "kernelspec": {
   "display_name": "Python 3 (ipykernel)",
   "language": "python",
   "name": "python3"
  },
  "language_info": {
   "codemirror_mode": {
    "name": "ipython",
    "version": 3
   },
   "file_extension": ".py",
   "mimetype": "text/x-python",
   "name": "python",
   "nbconvert_exporter": "python",
   "pygments_lexer": "ipython3",
   "version": "3.11.4"
  }
 },
 "nbformat": 4,
 "nbformat_minor": 5
}
