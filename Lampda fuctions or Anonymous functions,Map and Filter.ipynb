{
 "cells": [
  {
   "cell_type": "code",
   "execution_count": 1,
   "id": "e258ad53",
   "metadata": {},
   "outputs": [
    {
     "name": "stdout",
     "output_type": "stream",
     "text": [
      "10\n"
     ]
    }
   ],
   "source": [
    "a=lambda x:x*2\n",
    "print(a(5))"
   ]
  },
  {
   "cell_type": "markdown",
   "id": "04582a8b",
   "metadata": {},
   "source": [
    "# map and filter\n"
   ]
  },
  {
   "cell_type": "code",
   "execution_count": 2,
   "id": "1814c67d",
   "metadata": {},
   "outputs": [],
   "source": [
    "a=[1,2,3,4,5,6,7,8,9,0]"
   ]
  },
  {
   "cell_type": "code",
   "execution_count": 7,
   "id": "0b0b3286",
   "metadata": {},
   "outputs": [
    {
     "data": {
      "text/plain": [
       "[2, 4, 6, 8]"
      ]
     },
     "execution_count": 7,
     "metadata": {},
     "output_type": "execute_result"
    }
   ],
   "source": [
    "list(filter(lambda x:x%2==0,a))"
   ]
  },
  {
   "cell_type": "code",
   "execution_count": 8,
   "id": "4c0095fa",
   "metadata": {},
   "outputs": [
    {
     "data": {
      "text/plain": [
       "[10, 20, 30, 40, 50, 60, 70, 80, 90]"
      ]
     },
     "execution_count": 8,
     "metadata": {},
     "output_type": "execute_result"
    }
   ],
   "source": [
    "list(map(lambda x:x*10,a))"
   ]
  },
  {
   "cell_type": "code",
   "execution_count": 11,
   "id": "c02c0016",
   "metadata": {},
   "outputs": [
    {
     "data": {
      "text/plain": [
       "[0.5, 1.0, 1.5, 2.0, 2.5, 3.0, 3.5, 4.0, 4.5]"
      ]
     },
     "execution_count": 11,
     "metadata": {},
     "output_type": "execute_result"
    }
   ],
   "source": [
    "list(map(lambda x:x/2,a))"
   ]
  },
  {
   "cell_type": "code",
   "execution_count": 12,
   "id": "1b361740",
   "metadata": {},
   "outputs": [
    {
     "data": {
      "text/plain": [
       "[1, 4, 9, 16, 25, 36, 49, 64, 81]"
      ]
     },
     "execution_count": 12,
     "metadata": {},
     "output_type": "execute_result"
    }
   ],
   "source": [
    "list(map(lambda x:x**2,a))"
   ]
  },
  {
   "cell_type": "code",
   "execution_count": 13,
   "id": "0c04f0e7",
   "metadata": {},
   "outputs": [
    {
     "name": "stdout",
     "output_type": "stream",
     "text": [
      "12\n"
     ]
    }
   ],
   "source": [
    "b=lambda x:x+2\n",
    "print(b(10))\n"
   ]
  },
  {
   "cell_type": "code",
   "execution_count": 19,
   "id": "fd801e56",
   "metadata": {},
   "outputs": [
    {
     "name": "stdout",
     "output_type": "stream",
     "text": [
      "30\n"
     ]
    }
   ],
   "source": [
    "c=lambda a,b,d:a+b+d\n",
    "print(c(5,10,15))"
   ]
  },
  {
   "cell_type": "code",
   "execution_count": 25,
   "id": "aa92dc8b",
   "metadata": {},
   "outputs": [
    {
     "name": "stdout",
     "output_type": "stream",
     "text": [
      "40\n",
      "90\n",
      "160\n"
     ]
    }
   ],
   "source": [
    "def myfunction (n):\n",
    "    return lambda a:a*n\n",
    "mydoubler=myfunction(2)\n",
    "mytripler=myfunction(3)\n",
    "myfourble=myfunction(4)\n",
    "print(mydoubler(20))\n",
    "print(mytripler(30))\n",
    "print(myfourble(40))"
   ]
  },
  {
   "cell_type": "code",
   "execution_count": null,
   "id": "3df53e3e",
   "metadata": {},
   "outputs": [],
   "source": []
  }
 ],
 "metadata": {
  "kernelspec": {
   "display_name": "Python 3 (ipykernel)",
   "language": "python",
   "name": "python3"
  },
  "language_info": {
   "codemirror_mode": {
    "name": "ipython",
    "version": 3
   },
   "file_extension": ".py",
   "mimetype": "text/x-python",
   "name": "python",
   "nbconvert_exporter": "python",
   "pygments_lexer": "ipython3",
   "version": "3.11.4"
  }
 },
 "nbformat": 4,
 "nbformat_minor": 5
}
