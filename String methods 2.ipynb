{
 "cells": [
  {
   "cell_type": "code",
   "execution_count": 1,
   "id": "64fd0693",
   "metadata": {},
   "outputs": [],
   "source": [
    "name=\"maitexa\""
   ]
  },
  {
   "cell_type": "code",
   "execution_count": 2,
   "id": "49c6c8a0",
   "metadata": {},
   "outputs": [
    {
     "name": "stdout",
     "output_type": "stream",
     "text": [
      "7\n"
     ]
    }
   ],
   "source": [
    "print(len(name))"
   ]
  },
  {
   "cell_type": "code",
   "execution_count": 3,
   "id": "81e0fee1",
   "metadata": {},
   "outputs": [
    {
     "name": "stdout",
     "output_type": "stream",
     "text": [
      "2\n"
     ]
    }
   ],
   "source": [
    "print(name.count(\"a\"))"
   ]
  },
  {
   "cell_type": "code",
   "execution_count": 4,
   "id": "54914785",
   "metadata": {},
   "outputs": [],
   "source": [
    "name1 =(\"maitexa provides data science in AI course\")"
   ]
  },
  {
   "cell_type": "code",
   "execution_count": 5,
   "id": "7cc0f7a1",
   "metadata": {},
   "outputs": [
    {
     "name": "stdout",
     "output_type": "stream",
     "text": [
      "1\n"
     ]
    }
   ],
   "source": [
    "print(name1.count(\"maitexa\"))"
   ]
  },
  {
   "cell_type": "code",
   "execution_count": 6,
   "id": "abb36726",
   "metadata": {},
   "outputs": [
    {
     "data": {
      "text/plain": [
       "'MAITEXA PROVIDES DATA SCIENCE IN AI COURSE'"
      ]
     },
     "execution_count": 6,
     "metadata": {},
     "output_type": "execute_result"
    }
   ],
   "source": [
    "name1.upper()"
   ]
  },
  {
   "cell_type": "code",
   "execution_count": 7,
   "id": "d81bbb6a",
   "metadata": {},
   "outputs": [
    {
     "data": {
      "text/plain": [
       "'maitexa provides data science in ai course'"
      ]
     },
     "execution_count": 7,
     "metadata": {},
     "output_type": "execute_result"
    }
   ],
   "source": [
    "name1.lower()"
   ]
  },
  {
   "cell_type": "code",
   "execution_count": 8,
   "id": "7ab98a70",
   "metadata": {},
   "outputs": [
    {
     "name": "stdout",
     "output_type": "stream",
     "text": [
      "enter the string:\n",
      "{}\n"
     ]
    }
   ],
   "source": [
    "n=input(\"enter the string:\").lower()\n",
    "s={}\n",
    "for i in n:\n",
    "    if i in s:\n",
    "        s[i]+=1\n",
    "    else:\n",
    "        s[i]=1\n",
    "print(s)\n"
   ]
  },
  {
   "cell_type": "code",
   "execution_count": 9,
   "id": "7a750d44",
   "metadata": {},
   "outputs": [
    {
     "data": {
      "text/plain": [
       "'i'"
      ]
     },
     "execution_count": 9,
     "metadata": {},
     "output_type": "execute_result"
    }
   ],
   "source": [
    "name=\"hii\"\n",
    "max(name)"
   ]
  },
  {
   "cell_type": "code",
   "execution_count": 10,
   "id": "93f6461e",
   "metadata": {},
   "outputs": [
    {
     "data": {
      "text/plain": [
       "'h'"
      ]
     },
     "execution_count": 10,
     "metadata": {},
     "output_type": "execute_result"
    }
   ],
   "source": [
    "min(name)"
   ]
  },
  {
   "cell_type": "code",
   "execution_count": null,
   "id": "283bbbbe",
   "metadata": {},
   "outputs": [],
   "source": []
  },
  {
   "cell_type": "code",
   "execution_count": 11,
   "id": "87ed83de",
   "metadata": {},
   "outputs": [
    {
     "data": {
      "text/plain": [
       "['hii']"
      ]
     },
     "execution_count": 11,
     "metadata": {},
     "output_type": "execute_result"
    }
   ],
   "source": [
    "name.split()"
   ]
  },
  {
   "cell_type": "code",
   "execution_count": 12,
   "id": "ffccd3d3",
   "metadata": {},
   "outputs": [
    {
     "name": "stdout",
     "output_type": "stream",
     "text": [
      "maitexa!\n",
      "m\n",
      "ite\n",
      "itexa!\n",
      "maitexa!maitexa!\n",
      "maitexa!TEST\n"
     ]
    }
   ],
   "source": [
    "str = 'maitexa!'\n",
    "\n",
    "print (str)          \n",
    "print (str[0])       \n",
    "print (str[2:5])     \n",
    "print (str[2:])      \n",
    "print (str * 2)      \n",
    "print (str + \"TEST\") "
   ]
  },
  {
   "cell_type": "code",
   "execution_count": null,
   "id": "3ebe82cf",
   "metadata": {},
   "outputs": [],
   "source": []
  }
 ],
 "metadata": {
  "kernelspec": {
   "display_name": "Python 3 (ipykernel)",
   "language": "python",
   "name": "python3"
  },
  "language_info": {
   "codemirror_mode": {
    "name": "ipython",
    "version": 3
   },
   "file_extension": ".py",
   "mimetype": "text/x-python",
   "name": "python",
   "nbconvert_exporter": "python",
   "pygments_lexer": "ipython3",
   "version": "3.11.4"
  }
 },
 "nbformat": 4,
 "nbformat_minor": 5
}
