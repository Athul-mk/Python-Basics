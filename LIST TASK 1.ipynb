{
 "cells": [
  {
   "cell_type": "code",
   "execution_count": 1,
   "id": "00209b90",
   "metadata": {},
   "outputs": [
    {
     "name": "stdout",
     "output_type": "stream",
     "text": [
      "[13, 15, 16, 18, 20, 12, 14, 16, 18, 20]\n"
     ]
    }
   ],
   "source": [
    "a=[13,15,16,18,20]\n",
    "b=[12,14,16,18,20]\n",
    "c=a+b\n",
    "print(c)"
   ]
  },
  {
   "cell_type": "code",
   "execution_count": 2,
   "id": "d2fbf45f",
   "metadata": {},
   "outputs": [
    {
     "data": {
      "text/plain": [
       "12"
      ]
     },
     "execution_count": 2,
     "metadata": {},
     "output_type": "execute_result"
    }
   ],
   "source": [
    "min(c)\n"
   ]
  },
  {
   "cell_type": "code",
   "execution_count": 3,
   "id": "5a1319ba",
   "metadata": {},
   "outputs": [
    {
     "data": {
      "text/plain": [
       "20"
      ]
     },
     "execution_count": 3,
     "metadata": {},
     "output_type": "execute_result"
    }
   ],
   "source": [
    "max(c)"
   ]
  },
  {
   "cell_type": "code",
   "execution_count": 4,
   "id": "7ea584b7",
   "metadata": {},
   "outputs": [
    {
     "data": {
      "text/plain": [
       "[13, 15, 16, 18, 20, 12, 14, 16, 18, 20]"
      ]
     },
     "execution_count": 4,
     "metadata": {},
     "output_type": "execute_result"
    }
   ],
   "source": [
    "c.copy()"
   ]
  },
  {
   "cell_type": "code",
   "execution_count": 5,
   "id": "8956dbf9",
   "metadata": {},
   "outputs": [
    {
     "name": "stdout",
     "output_type": "stream",
     "text": [
      "18\n"
     ]
    }
   ],
   "source": [
    "print(c[3])"
   ]
  },
  {
   "cell_type": "code",
   "execution_count": 6,
   "id": "1813995f",
   "metadata": {},
   "outputs": [
    {
     "data": {
      "text/plain": [
       "3"
      ]
     },
     "execution_count": 6,
     "metadata": {},
     "output_type": "execute_result"
    }
   ],
   "source": [
    "c.index(18)"
   ]
  },
  {
   "cell_type": "code",
   "execution_count": 7,
   "id": "24d59a44",
   "metadata": {},
   "outputs": [
    {
     "data": {
      "text/plain": [
       "4"
      ]
     },
     "execution_count": 7,
     "metadata": {},
     "output_type": "execute_result"
    }
   ],
   "source": [
    "c.index(20)"
   ]
  },
  {
   "cell_type": "code",
   "execution_count": 8,
   "id": "99324595",
   "metadata": {},
   "outputs": [
    {
     "name": "stdout",
     "output_type": "stream",
     "text": [
      "[13, 15, 16, 18, 20, 12, 14, 16, 18, 20, 'hii']\n"
     ]
    }
   ],
   "source": [
    "c.append(\"hii\")\n",
    "print(c)"
   ]
  },
  {
   "cell_type": "code",
   "execution_count": 9,
   "id": "a9e49483",
   "metadata": {},
   "outputs": [
    {
     "name": "stdout",
     "output_type": "stream",
     "text": [
      "[13, 15, 16, 18, 20, 12, 14, 16, 18, 20, 'hii', 'hello']\n"
     ]
    }
   ],
   "source": [
    "c.append(\"hello\")\n",
    "print(c)"
   ]
  },
  {
   "cell_type": "code",
   "execution_count": 10,
   "id": "12978840",
   "metadata": {},
   "outputs": [
    {
     "name": "stdout",
     "output_type": "stream",
     "text": [
      "[13, 15, 16, 18, 20, 12, 14, 16, 18, 20, 'hii', 'hello', 'hii']\n"
     ]
    }
   ],
   "source": [
    "c.append(\"hii\")\n",
    "print(c)"
   ]
  },
  {
   "cell_type": "code",
   "execution_count": 11,
   "id": "ba2884bb",
   "metadata": {},
   "outputs": [
    {
     "name": "stdout",
     "output_type": "stream",
     "text": [
      "hii-hello\n",
      "hiihello\n"
     ]
    }
   ],
   "source": [
    "a=[\"hii\",\"hello\"]\n",
    "print(\"-\".join(a))\n",
    "print(\"\".join(a))"
   ]
  },
  {
   "cell_type": "code",
   "execution_count": 12,
   "id": "2745a903",
   "metadata": {},
   "outputs": [
    {
     "data": {
      "text/plain": [
       "1"
      ]
     },
     "execution_count": 12,
     "metadata": {},
     "output_type": "execute_result"
    }
   ],
   "source": [
    "a.count(\"hii\")"
   ]
  },
  {
   "cell_type": "code",
   "execution_count": 13,
   "id": "5bca77fb",
   "metadata": {},
   "outputs": [
    {
     "name": "stdout",
     "output_type": "stream",
     "text": [
      "['hii', 'hello', 'good morning']\n"
     ]
    }
   ],
   "source": [
    "c=(\"hii\",\"hello\",\"good morning\")\n",
    "s=list(c)\n",
    "print(s)"
   ]
  },
  {
   "cell_type": "code",
   "execution_count": 14,
   "id": "ceb995de",
   "metadata": {},
   "outputs": [
    {
     "name": "stdout",
     "output_type": "stream",
     "text": [
      "['hii', 'hello', 'good morning', 4, 5, 6]\n"
     ]
    }
   ],
   "source": [
    "s.extend([4,5,6])\n",
    "print(s)"
   ]
  },
  {
   "cell_type": "code",
   "execution_count": 15,
   "id": "de5b16ce",
   "metadata": {},
   "outputs": [
    {
     "name": "stdout",
     "output_type": "stream",
     "text": [
      "empty list\n"
     ]
    }
   ],
   "source": [
    "d=[]\n",
    "if not d:\n",
    "    print(\"empty list\")\n",
    "else:\n",
    "    print(\"List is not empty\")"
   ]
  },
  {
   "cell_type": "code",
   "execution_count": 16,
   "id": "d75c8843",
   "metadata": {},
   "outputs": [
    {
     "name": "stdout",
     "output_type": "stream",
     "text": [
      "empty\n"
     ]
    }
   ],
   "source": [
    "if len(d)==0:\n",
    "    print(\"empty\")\n",
    "else:\n",
    "    print(\"not empty\")"
   ]
  },
  {
   "cell_type": "code",
   "execution_count": 17,
   "id": "ac73b96b",
   "metadata": {},
   "outputs": [
    {
     "name": "stdout",
     "output_type": "stream",
     "text": [
      "empty\n"
     ]
    }
   ],
   "source": [
    "if d==[]:\n",
    "    print(\"empty\")\n",
    "else:\n",
    "    print(\"not empty\")"
   ]
  },
  {
   "cell_type": "code",
   "execution_count": 18,
   "id": "e12c6ae8",
   "metadata": {},
   "outputs": [
    {
     "ename": "AttributeError",
     "evalue": "'list' object has no attribute '_len_'",
     "output_type": "error",
     "traceback": [
      "\u001b[1;31m---------------------------------------------------------------------------\u001b[0m",
      "\u001b[1;31mAttributeError\u001b[0m                            Traceback (most recent call last)",
      "Cell \u001b[1;32mIn[18], line 2\u001b[0m\n\u001b[0;32m      1\u001b[0m e\u001b[38;5;241m=\u001b[39m[]\n\u001b[1;32m----> 2\u001b[0m \u001b[38;5;28;01mif\u001b[39;00m e\u001b[38;5;241m.\u001b[39m_len_()\u001b[38;5;241m==\u001b[39m\u001b[38;5;241m0\u001b[39m:\n\u001b[0;32m      3\u001b[0m     \u001b[38;5;28mprint\u001b[39m(\u001b[38;5;124m'\u001b[39m\u001b[38;5;124mempty\u001b[39m\u001b[38;5;124m'\u001b[39m)\n\u001b[0;32m      4\u001b[0m \u001b[38;5;28;01melse\u001b[39;00m:\n",
      "\u001b[1;31mAttributeError\u001b[0m: 'list' object has no attribute '_len_'"
     ]
    }
   ],
   "source": [
    "e=[]\n",
    "if e._len_()==0:\n",
    "    print('empty')\n",
    "else:\n",
    "    print('not empty')"
   ]
  },
  {
   "cell_type": "code",
   "execution_count": null,
   "id": "2c0d35d8",
   "metadata": {},
   "outputs": [],
   "source": [
    "import numpy as np\n",
    "f=[1,2,3,4,5,6]\n",
    "resultarray= np.array(f)\n",
    "if resultarray.size==0:\n",
    "    print(\"empty\")\n",
    "else:\n",
    "    print(\"not empty\")"
   ]
  },
  {
   "cell_type": "code",
   "execution_count": null,
   "id": "7cbdb205",
   "metadata": {},
   "outputs": [],
   "source": [
    "print(f)\n",
    "print(sum(f))"
   ]
  },
  {
   "cell_type": "code",
   "execution_count": 21,
   "id": "d52ab913",
   "metadata": {},
   "outputs": [
    {
     "name": "stdout",
     "output_type": "stream",
     "text": [
      "odd\n",
      "even\n",
      "odd\n",
      "odd\n",
      "odd\n",
      "even\n"
     ]
    }
   ],
   "source": [
    "t=[1,2,7,5,9,10]\n",
    "for i in t:\n",
    "    if(i%2==0):\n",
    "        print(\"even\")\n",
    "    else:\n",
    "        print(\"odd\")\n"
   ]
  },
  {
   "cell_type": "code",
   "execution_count": 23,
   "id": "0a464c5e",
   "metadata": {},
   "outputs": [
    {
     "name": "stdout",
     "output_type": "stream",
     "text": [
      "[1, 3, 5]\n"
     ]
    }
   ],
   "source": [
    "y=[1,2,3,4,5,6]\n",
    "print(y[::2])"
   ]
  },
  {
   "cell_type": "code",
   "execution_count": 25,
   "id": "2c32c500",
   "metadata": {},
   "outputs": [
    {
     "name": "stdout",
     "output_type": "stream",
     "text": [
      "evenlists: [2, 4, 6]\n",
      "oddlists: [1, 3, 5]\n"
     ]
    }
   ],
   "source": [
    "evenlist=[]\n",
    "oddlist=[]\n",
    "for i in y:\n",
    "    if (i%2==0):\n",
    "        evenlist.append(i)\n",
    "    else:\n",
    "        oddlist.append(i)\n",
    "print(\"evenlists:\",evenlist)\n",
    "print(\"oddlists:\",oddlist)"
   ]
  },
  {
   "cell_type": "code",
   "execution_count": null,
   "id": "9aeecb08",
   "metadata": {},
   "outputs": [],
   "source": []
  }
 ],
 "metadata": {
  "kernelspec": {
   "display_name": "Python 3 (ipykernel)",
   "language": "python",
   "name": "python3"
  },
  "language_info": {
   "codemirror_mode": {
    "name": "ipython",
    "version": 3
   },
   "file_extension": ".py",
   "mimetype": "text/x-python",
   "name": "python",
   "nbconvert_exporter": "python",
   "pygments_lexer": "ipython3",
   "version": "3.11.4"
  }
 },
 "nbformat": 4,
 "nbformat_minor": 5
}
