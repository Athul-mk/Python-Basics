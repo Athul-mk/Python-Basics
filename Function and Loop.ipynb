{
 "cells": [
  {
   "cell_type": "code",
   "execution_count": null,
   "id": "7b9ef516",
   "metadata": {},
   "outputs": [],
   "source": []
  },
  {
   "cell_type": "code",
   "execution_count": 23,
   "id": "d8a0b39c",
   "metadata": {},
   "outputs": [
    {
     "name": "stdout",
     "output_type": "stream",
     "text": [
      "101\n",
      "it is spalindrome\n"
     ]
    }
   ],
   "source": [
    "def isspalindrome(word):\n",
    "    returnword=(word[::-1])\n",
    "    print(returnword)\n",
    "    if (word==returnword):\n",
    "        print(\"it is spalindrome\")\n",
    "    else:\n",
    "        print(\"it is not spalindrome\")\n",
    "isspalindrome(\"101\")"
   ]
  },
  {
   "cell_type": "code",
   "execution_count": 3,
   "id": "2dbfc5a6",
   "metadata": {},
   "outputs": [
    {
     "name": "stdout",
     "output_type": "stream",
     "text": [
      "0\n",
      "1\n",
      "1\n",
      "2\n",
      "3\n",
      "5\n",
      "8\n",
      "13\n",
      "21\n",
      "34\n"
     ]
    }
   ],
   "source": [
    "def fibinocciseries(n):\n",
    "    n1=0\n",
    "    n2=1\n",
    "    if n==1:\n",
    "        print(n1)\n",
    "    else:\n",
    "        print(n1)\n",
    "        print(n2)\n",
    "        for i in range(2,n):\n",
    "            t=n1+n2\n",
    "            print(t)\n",
    "            n1=n2\n",
    "            n2=t\n",
    "fibinocciseries(10)\n",
    "        \n",
    "    "
   ]
  },
  {
   "cell_type": "code",
   "execution_count": 12,
   "id": "e7b1f88d",
   "metadata": {},
   "outputs": [
    {
     "name": "stdout",
     "output_type": "stream",
     "text": [
      "<function areaof_circle at 0x00000224513C1800> * <function areaof_circle at 0x00000224513C1800> * 3.14 = 314.0\n"
     ]
    }
   ],
   "source": [
    "def areaof_circle(a):\n",
    "    result=3.14*a*a\n",
    "    print(areaof_circle,\"*\",areaof_circle,\"*\",3.14,\"=\",result)\n",
    "areaof_circle(10)\n",
    "    "
   ]
  },
  {
   "cell_type": "code",
   "execution_count": 9,
   "id": "63998317",
   "metadata": {},
   "outputs": [
    {
     "name": "stdout",
     "output_type": "stream",
     "text": [
      "<function volumeof_cube at 0x00000224513C3C40> * <function volumeof_cube at 0x00000224513C3C40> * <function volumeof_cube at 0x00000224513C3C40> = 1331\n"
     ]
    }
   ],
   "source": [
    "def volumeof_cube(b):\n",
    "        result=b*b*b\n",
    "        print(volumeof_cube,\"*\",volumeof_cube,\"*\",volumeof_cube,\"=\",result)\n",
    "volumeof_cube(11)"
   ]
  },
  {
   "cell_type": "code",
   "execution_count": 11,
   "id": "07f3e67d",
   "metadata": {},
   "outputs": [
    {
     "name": "stdout",
     "output_type": "stream",
     "text": [
      "5 * 2 = 10\n"
     ]
    }
   ],
   "source": [
    "def areaof_rectangle(l,b):\n",
    "    result=l*b\n",
    "    print(b,\"*\",l,\"=\",result)\n",
    "areaof_rectangle(2,5)"
   ]
  },
  {
   "cell_type": "code",
   "execution_count": 10,
   "id": "876ac6b5",
   "metadata": {},
   "outputs": [
    {
     "name": "stdout",
     "output_type": "stream",
     "text": [
      "it is a vowel\n"
     ]
    }
   ],
   "source": [
    "def print_vowels(a):\n",
    "    vowels=(\"A\",\"E\",\"I\",\"O\",\"U\",\"a\",\"e\",\"i\",\"o\",\"u\")\n",
    "    if a in vowels:\n",
    "         print(f\"it is a vowel\")\n",
    "    else:\n",
    "        print(f\"it is a consonant\")\n",
    "print_vowels(\"U\")\n",
    "    \n",
    "\n",
    "\n"
   ]
  },
  {
   "cell_type": "code",
   "execution_count": 13,
   "id": "3f513a4f",
   "metadata": {},
   "outputs": [
    {
     "name": "stdout",
     "output_type": "stream",
     "text": [
      "it is not a mulitiplication of 4\n"
     ]
    }
   ],
   "source": [
    "def mulitiplication(a):\n",
    "    if(a%4==0):\n",
    "        print(\"it is mulitiplication of 4\")\n",
    "    else:\n",
    "        print(\"it is not a mulitiplication of 4\")\n",
    "mulitiplication(25)"
   ]
  },
  {
   "cell_type": "code",
   "execution_count": 14,
   "id": "b867b034",
   "metadata": {},
   "outputs": [
    {
     "name": "stdout",
     "output_type": "stream",
     "text": [
      "5 * 4 = 20\n"
     ]
    }
   ],
   "source": [
    "def perimeter(a):\n",
    "    result=4*a\n",
    "    print(a,\"*\",4,\"=\",result)\n",
    "perimeter(5)"
   ]
  },
  {
   "cell_type": "code",
   "execution_count": 15,
   "id": "8bd76b72",
   "metadata": {},
   "outputs": [
    {
     "name": "stdout",
     "output_type": "stream",
     "text": [
      "Given number is not a Armstrong Number\n"
     ]
    }
   ],
   "source": [
    "number = 1529\n",
    "digits = len(str(number))\n",
    "temp = number\n",
    "add_sum = 0\n",
    "while temp != 0:\n",
    "    k = temp % 10\n",
    "    add_sum += k**digits\n",
    "    temp = temp//10\n",
    "if add_sum == number:\n",
    "    print('Given number is an Armstrong Number')\n",
    "else:\n",
    "    print('Given number is not a Armstrong Number')\n",
    "\n",
    "\n",
    "\n",
    "\n",
    "\n"
   ]
  },
  {
   "cell_type": "code",
   "execution_count": 16,
   "id": "794e6d5e",
   "metadata": {},
   "outputs": [
    {
     "name": "stdout",
     "output_type": "stream",
     "text": [
      "5 * * 4 = 625\n"
     ]
    }
   ],
   "source": [
    "def find_power(a,b):\n",
    "    result=a**b\n",
    "    print(a,\"*\",\"*\",b,\"=\",result)\n",
    "find_power(5,4)"
   ]
  },
  {
   "cell_type": "code",
   "execution_count": null,
   "id": "b7a5dc29",
   "metadata": {},
   "outputs": [],
   "source": []
  },
  {
   "cell_type": "code",
   "execution_count": null,
   "id": "28c219c5",
   "metadata": {},
   "outputs": [],
   "source": []
  },
  {
   "cell_type": "code",
   "execution_count": null,
   "id": "6727cf45",
   "metadata": {},
   "outputs": [],
   "source": []
  },
  {
   "cell_type": "code",
   "execution_count": 93,
   "id": "8f148bdd",
   "metadata": {},
   "outputs": [
    {
     "data": {
      "text/plain": [
       "False"
      ]
     },
     "execution_count": 93,
     "metadata": {},
     "output_type": "execute_result"
    }
   ],
   "source": [
    "def is_prime(n):\n",
    "    if n <= 1:\n",
    "        return False\n",
    "    for i in range(2, int(n/2) + 1):\n",
    "        if n % i == 0:\n",
    "            return False\n",
    "    return True\n",
    " \n",
    "\n",
    "is_prime(1)"
   ]
  },
  {
   "cell_type": "code",
   "execution_count": 78,
   "id": "afc4fd82",
   "metadata": {},
   "outputs": [
    {
     "data": {
      "text/plain": [
       "17"
      ]
     },
     "execution_count": 78,
     "metadata": {},
     "output_type": "execute_result"
    }
   ],
   "source": [
    "def getsum(n):\n",
    "    sum=0\n",
    "    for digit in str(n): \n",
    "      sum += int(digit)      \n",
    "    return sum\n",
    "   \n",
    "getSum(98)"
   ]
  },
  {
   "cell_type": "code",
   "execution_count": 76,
   "id": "86507a8b",
   "metadata": {},
   "outputs": [
    {
     "data": {
      "text/plain": [
       "4321"
      ]
     },
     "execution_count": 76,
     "metadata": {},
     "output_type": "execute_result"
    }
   ],
   "source": [
    "def reverseofnumber(number,reverse):\n",
    "  if number==0:\n",
    "    return reverse\n",
    "  remainder = int(number%10)\n",
    "  reverse = (reverse*10)+remainder\n",
    "  return reverseofnumber(int(number/10),reverse)\n",
    "\n",
    "reverseofnumber(1234,0)"
   ]
  },
  {
   "cell_type": "code",
   "execution_count": null,
   "id": "48513f8a",
   "metadata": {},
   "outputs": [],
   "source": []
  }
 ],
 "metadata": {
  "kernelspec": {
   "display_name": "Python 3 (ipykernel)",
   "language": "python",
   "name": "python3"
  },
  "language_info": {
   "codemirror_mode": {
    "name": "ipython",
    "version": 3
   },
   "file_extension": ".py",
   "mimetype": "text/x-python",
   "name": "python",
   "nbconvert_exporter": "python",
   "pygments_lexer": "ipython3",
   "version": "3.11.4"
  }
 },
 "nbformat": 4,
 "nbformat_minor": 5
}
