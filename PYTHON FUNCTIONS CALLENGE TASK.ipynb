{
 "cells": [
  {
   "cell_type": "code",
   "execution_count": 1,
   "id": "1d5f2853",
   "metadata": {},
   "outputs": [
    {
     "name": "stdout",
     "output_type": "stream",
     "text": [
      "itis odd number\n"
     ]
    }
   ],
   "source": [
    "def printnumber(a):\n",
    "    if (a%2==0):\n",
    "        print(\"it is even number\")\n",
    "    else:\n",
    "        print(\"itis odd number\")\n",
    "printnumber(5)"
   ]
  },
  {
   "cell_type": "code",
   "execution_count": 65,
   "id": "de6de67a",
   "metadata": {},
   "outputs": [
    {
     "name": "stdout",
     "output_type": "stream",
     "text": [
      "('hello',)\n",
      "('hello', 'bye')\n"
     ]
    }
   ],
   "source": [
    "a=(\"hii\",\"hello\",\"bye\")\n",
    "n1=slice(1,2)\n",
    "n2=slice(1,3)\n",
    "print(a[n1])\n",
    "print(a[n2])\n"
   ]
  },
  {
   "cell_type": "code",
   "execution_count": 26,
   "id": "fce9409a",
   "metadata": {},
   "outputs": [
    {
     "name": "stdout",
     "output_type": "stream",
     "text": [
      "Yes\n"
     ]
    }
   ],
   "source": [
    "def myfunction(a):\n",
    "    if ((a==\"yes\")or(a==\"YES\")or(a==\"Yes\")):\n",
    "        print(\"Yes\")\n",
    "    else:\n",
    "        print(\"no\")\n",
    "myfunction(\"Yes\")"
   ]
  },
  {
   "cell_type": "code",
   "execution_count": 27,
   "id": "08de21e6",
   "metadata": {},
   "outputs": [
    {
     "data": {
      "text/plain": [
       "[2, 4, 6, 8, 10]"
      ]
     },
     "execution_count": 27,
     "metadata": {},
     "output_type": "execute_result"
    }
   ],
   "source": [
    "a=[1,2,3,4,5,6,7,8,9,10]\n",
    "list(filter(lambda x:x%2==0,a))"
   ]
  },
  {
   "cell_type": "code",
   "execution_count": 28,
   "id": "1097a938",
   "metadata": {},
   "outputs": [
    {
     "data": {
      "text/plain": [
       "[1, 4, 9, 16, 25, 36, 49, 64, 81, 100]"
      ]
     },
     "execution_count": 28,
     "metadata": {},
     "output_type": "execute_result"
    }
   ],
   "source": [
    "list(map(lambda x:x**2,a))"
   ]
  },
  {
   "cell_type": "code",
   "execution_count": 39,
   "id": "b3583cf4",
   "metadata": {},
   "outputs": [
    {
     "name": "stdout",
     "output_type": "stream",
     "text": [
      "[1, 4, 9, 16, 25, 36, 49, 64, 81, 100]\n"
     ]
    },
    {
     "data": {
      "text/plain": [
       "[4, 16, 36, 64, 100]"
      ]
     },
     "execution_count": 39,
     "metadata": {},
     "output_type": "execute_result"
    }
   ],
   "source": [
    "c=[1,2,3,4,5,6,7,8,9,10]\n",
    "d=list(map(lambda x:x**2,c))\n",
    "print(d)\n",
    "list(filter(lambda x:x%2==0,d))"
   ]
  },
  {
   "cell_type": "code",
   "execution_count": 40,
   "id": "f684c688",
   "metadata": {},
   "outputs": [
    {
     "data": {
      "text/plain": [
       "[2, 4, 6, 8, 10, 12, 14, 16, 18, 20]"
      ]
     },
     "execution_count": 40,
     "metadata": {},
     "output_type": "execute_result"
    }
   ],
   "source": [
    "e=[1,2,3,4,5,6,7,8,9,10,11,12,13,14,15,16,17,18,19,20]\n",
    "list(filter(lambda x:x%2==0,e))\n"
   ]
  },
  {
   "cell_type": "code",
   "execution_count": 42,
   "id": "08b4c47a",
   "metadata": {},
   "outputs": [
    {
     "data": {
      "text/plain": [
       "[1,\n",
       " 4,\n",
       " 9,\n",
       " 16,\n",
       " 25,\n",
       " 36,\n",
       " 49,\n",
       " 64,\n",
       " 81,\n",
       " 100,\n",
       " 121,\n",
       " 144,\n",
       " 169,\n",
       " 196,\n",
       " 225,\n",
       " 256,\n",
       " 289,\n",
       " 324,\n",
       " 361,\n",
       " 400]"
      ]
     },
     "execution_count": 42,
     "metadata": {},
     "output_type": "execute_result"
    }
   ],
   "source": [
    "list(map(lambda x:x**2,e))"
   ]
  },
  {
   "cell_type": "code",
   "execution_count": null,
   "id": "c0b7ad88",
   "metadata": {},
   "outputs": [],
   "source": []
  },
  {
   "cell_type": "code",
   "execution_count": 74,
   "id": "46c13203",
   "metadata": {},
   "outputs": [
    {
     "data": {
      "text/plain": [
       "(2, 4, 6, 8, 10)"
      ]
     },
     "execution_count": 74,
     "metadata": {},
     "output_type": "execute_result"
    }
   ],
   "source": [
    "f=(1,2,3,4,5,6,7,8,9,10)\n",
    "tuple(filter(lambda x:x%2==0,f))"
   ]
  },
  {
   "cell_type": "code",
   "execution_count": null,
   "id": "21bd271b",
   "metadata": {},
   "outputs": [],
   "source": []
  },
  {
   "cell_type": "code",
   "execution_count": 218,
   "id": "797f4871",
   "metadata": {},
   "outputs": [
    {
     "name": "stdout",
     "output_type": "stream",
     "text": [
      "(1, 2, 3, 4, 5)\n",
      "(6, 7, 8, 9, 10)\n"
     ]
    }
   ],
   "source": [
    "h=(1,2,3,4,5,6,7,8,9,10)\n",
    "g=h[0:5]\n",
    "print(g)\n",
    "i=h[5:10]\n",
    "print(i)"
   ]
  },
  {
   "cell_type": "code",
   "execution_count": null,
   "id": "77cf83f8",
   "metadata": {},
   "outputs": [],
   "source": []
  },
  {
   "cell_type": "code",
   "execution_count": 132,
   "id": "cb05499f",
   "metadata": {},
   "outputs": [
    {
     "name": "stdout",
     "output_type": "stream",
     "text": [
      "{1: 1, 2: 4, 3: 9, 4: 16, 5: 25, 6: 36, 7: 49, 8: 64, 9: 81, 10: 100, 11: 121, 12: 144, 13: 169, 14: 196, 15: 225, 16: 256, 17: 289, 18: 324, 19: 361, 20: 400}\n"
     ]
    }
   ],
   "source": [
    "\n",
    "def dictionery() :\n",
    "    d={}\n",
    "    for i in range(1,21):\n",
    "        d[i]=i**2\n",
    "\n",
    "    print(d)\n",
    "    \n",
    "    \n",
    "dictionery()\n",
    "  \n"
   ]
  },
  {
   "cell_type": "code",
   "execution_count": 11,
   "id": "7c85fd2b",
   "metadata": {},
   "outputs": [
    {
     "name": "stdout",
     "output_type": "stream",
     "text": [
      "{1: 1, 2: 4, 3: 9}\n"
     ]
    }
   ],
   "source": [
    "def dic():\n",
    "    d={}\n",
    "    for i in range(1,4):\n",
    "        d[i]=i**2\n",
    "            \n",
    "    print(d)\n",
    "    \n",
    "    \n",
    "dic()\n",
    "           "
   ]
  },
  {
   "cell_type": "code",
   "execution_count": 137,
   "id": "defdaf1b",
   "metadata": {},
   "outputs": [
    {
     "name": "stdout",
     "output_type": "stream",
     "text": [
      "1\n",
      "4\n",
      "9\n",
      "16\n",
      "25\n",
      "36\n",
      "49\n",
      "64\n",
      "81\n",
      "100\n",
      "121\n",
      "144\n",
      "169\n",
      "196\n",
      "225\n",
      "256\n",
      "289\n",
      "324\n",
      "361\n",
      "400\n"
     ]
    }
   ],
   "source": [
    "def dic1():\n",
    "    a={}\n",
    "    \n",
    "    for i in range (1,21):\n",
    "        a[i]=i**2\n",
    "        print(a[i])\n",
    "dic1()   \n",
    "    \n",
    "        \n",
    "\n",
    "    "
   ]
  },
  {
   "cell_type": "code",
   "execution_count": 139,
   "id": "8383dc43",
   "metadata": {},
   "outputs": [
    {
     "name": "stdout",
     "output_type": "stream",
     "text": [
      "1\n",
      "2\n",
      "3\n",
      "4\n",
      "5\n",
      "6\n",
      "7\n",
      "8\n",
      "9\n",
      "10\n",
      "11\n",
      "12\n",
      "13\n",
      "14\n",
      "15\n",
      "16\n",
      "17\n",
      "18\n",
      "19\n",
      "20\n"
     ]
    }
   ],
   "source": [
    "def dic2():\n",
    "    b={}\n",
    "    for i in range(1,21):\n",
    "       print(i)\n",
    "    \n",
    "dic2()"
   ]
  },
  {
   "cell_type": "code",
   "execution_count": 161,
   "id": "74aef1fa",
   "metadata": {},
   "outputs": [
    {
     "name": "stdout",
     "output_type": "stream",
     "text": [
      "[1, 4, 9, 16, 25, 36, 49, 64, 81, 100, 121, 144, 169, 196, 225, 256, 289, 324, 361, 400]\n"
     ]
    }
   ],
   "source": [
    "\n",
    "def printValues():\n",
    "    l = list()\n",
    "    for i in range(1,21):\n",
    "        l.append(i**2)\n",
    "       \n",
    "\n",
    "    print(l)\n",
    "\n",
    " \n",
    "\n",
    "printValues()\n",
    "        \n",
    "\n",
    "\n",
    "\n",
    "   "
   ]
  },
  {
   "cell_type": "code",
   "execution_count": 5,
   "id": "29c23d6e",
   "metadata": {},
   "outputs": [
    {
     "name": "stdout",
     "output_type": "stream",
     "text": [
      "{1: 1, 2: 4, 3: 9, 4: 16, 5: 25, 6: 36, 7: 49, 8: 64, 9: 81, 10: 100, 11: 121, 12: 144, 13: 169, 14: 196, 15: 225, 16: 256, 17: 289, 18: 324, 19: 361, 20: 400}\n",
      "dict_values([1, 4, 9, 16, 25, 36, 49, 64, 81, 100, 121, 144, 169, 196, 225, 256, 289, 324, 361, 400])\n",
      "dict_keys([1, 2, 3, 4, 5, 6, 7, 8, 9, 10, 11, 12, 13, 14, 15, 16, 17, 18, 19, 20])\n"
     ]
    }
   ],
   "source": [
    "def dic1():\n",
    "    a={}\n",
    "    \n",
    "    for i in range (1,21):\n",
    "        a[i]=i**2\n",
    "    print(a)\n",
    "    print(a.values())\n",
    "    print(a.keys())\n",
    "        \n",
    "    \n",
    "dic1()      \n",
    "        \n"
   ]
  },
  {
   "cell_type": "code",
   "execution_count": 173,
   "id": "f1d984f7",
   "metadata": {},
   "outputs": [
    {
     "name": "stdout",
     "output_type": "stream",
     "text": [
      "[1, 4, 9, 16, 25]\n"
     ]
    }
   ],
   "source": [
    "def printValues1():\n",
    "    l = list()\n",
    "    for i in range(1,21):\n",
    "        l.append(i**2)\n",
    "        \n",
    "    print(l[0:5])\n",
    "    \n",
    "\n",
    " \n",
    "\n",
    "printValues1()"
   ]
  },
  {
   "cell_type": "code",
   "execution_count": 199,
   "id": "a78eff05",
   "metadata": {},
   "outputs": [
    {
     "name": "stdout",
     "output_type": "stream",
     "text": [
      "[256, 289, 324, 361, 400]\n"
     ]
    }
   ],
   "source": [
    "def printvalues2():\n",
    "    f=list()\n",
    "    for i in range(1,21):\n",
    "        f.append(i**2)\n",
    "    print(f[15:20])\n",
    "    \n",
    "printvalues2()"
   ]
  },
  {
   "cell_type": "code",
   "execution_count": 211,
   "id": "970964a9",
   "metadata": {},
   "outputs": [
    {
     "name": "stdout",
     "output_type": "stream",
     "text": [
      "[49, 64, 81, 100, 121, 144, 169, 196, 225, 256, 289, 324, 361, 400]\n"
     ]
    }
   ],
   "source": [
    "def printvalues5():\n",
    "    g=list()\n",
    "    for i in range(1,21):\n",
    "        g.append(i**2)\n",
    "    print(g[6:20])\n",
    "    \n",
    "printvalues5()\n",
    "    "
   ]
  },
  {
   "cell_type": "code",
   "execution_count": 220,
   "id": "a7a66cc5",
   "metadata": {},
   "outputs": [
    {
     "name": "stdout",
     "output_type": "stream",
     "text": [
      "[36, 49, 64, 81, 100, 121, 144, 169, 196, 225, 256, 289, 324, 361, 400]\n"
     ]
    }
   ],
   "source": [
    "def printvalues6():\n",
    "    h=list()\n",
    "    for i in range(1,21):\n",
    "        h.append(i**2)\n",
    "    print(h[5:20])\n",
    "    \n",
    "printvalues6()"
   ]
  },
  {
   "cell_type": "code",
   "execution_count": null,
   "id": "574e4793",
   "metadata": {},
   "outputs": [],
   "source": []
  }
 ],
 "metadata": {
  "kernelspec": {
   "display_name": "Python 3 (ipykernel)",
   "language": "python",
   "name": "python3"
  },
  "language_info": {
   "codemirror_mode": {
    "name": "ipython",
    "version": 3
   },
   "file_extension": ".py",
   "mimetype": "text/x-python",
   "name": "python",
   "nbconvert_exporter": "python",
   "pygments_lexer": "ipython3",
   "version": "3.11.4"
  }
 },
 "nbformat": 4,
 "nbformat_minor": 5
}
