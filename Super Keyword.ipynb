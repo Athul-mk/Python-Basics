{
 "cells": [
  {
   "cell_type": "code",
   "execution_count": 1,
   "id": "d992484d",
   "metadata": {},
   "outputs": [
    {
     "name": "stdout",
     "output_type": "stream",
     "text": [
      "The ID is: 103\n",
      "The Name is: Athul M K\n",
      "The Address is: calicut\n",
      "The Emails is: athulmk00@gmails\n"
     ]
    }
   ],
   "source": [
    "class Emp():\n",
    "    def __init__(self, id, name, Add):\n",
    "        self.id = id\n",
    "        self.name = name\n",
    "        self.Add = Add\n",
    " \n",
    "\n",
    "class Freelance(Emp):\n",
    "    def __init__(self, id, name, Add, Emails):\n",
    "        super().__init__(id, name, Add)\n",
    "        self.Emails = Emails\n",
    " \n",
    "Emp_1 = Freelance(103, \"Athul M K\", \"calicut\" , \"athulmk00@gmails\")\n",
    "print('The ID is:', Emp_1.id)\n",
    "print('The Name is:', Emp_1.name)\n",
    "print('The Address is:', Emp_1.Add)\n",
    "print('The Emails is:', Emp_1.Emails)"
   ]
  },
  {
   "cell_type": "code",
   "execution_count": 17,
   "id": "b6f416e7",
   "metadata": {},
   "outputs": [
    {
     "name": "stdout",
     "output_type": "stream",
     "text": [
      "hello 20\n",
      "cat dh\n",
      "100\n",
      "calicut\n"
     ]
    }
   ],
   "source": [
    "class emp:\n",
    "    def __init__(self,animal,type1):\n",
    "        self.animal=animal\n",
    "        self.type1=type1\n",
    "        \n",
    "    def display(self):\n",
    "        print(self.animal,self.type1)\n",
    "    def place(self):\n",
    "        print(\"calicut\")\n",
    "class freelance(emp):\n",
    "    def __init__(self,name,age,id,animal,type1):\n",
    "        self.name=name\n",
    "        self.age=age\n",
    "        self.id=id\n",
    "        super().__init__(animal,type1)\n",
    "        \n",
    "    def display(self):\n",
    "        print(self.name,self.age)\n",
    "        super().display()\n",
    "    def hii(self):\n",
    "        print(self.id)\n",
    "    \n",
    "obj=freelance(\"hello\",20,100,'cat','dh')\n",
    "\n",
    "obj.display()\n",
    "obj.hii()\n",
    "obj.place()"
   ]
  },
  {
   "cell_type": "code",
   "execution_count": 11,
   "id": "02bf318c",
   "metadata": {},
   "outputs": [
    {
     "name": "stdout",
     "output_type": "stream",
     "text": [
      "The given animal is a mammal type .\n",
      "The given animal is a domestic animal type.\n",
      "The given animal has four legs and a tail\n"
     ]
    }
   ],
   "source": [
    "class Animalia:  \n",
    "      \n",
    "    # define construcors for parent animalia class  \n",
    "    def __init__(self):  \n",
    "        self.Legs = 4  \n",
    "        self.adomestic = True  \n",
    "        self.atail = True  \n",
    "        self.amammals = True  \n",
    "  \n",
    "    # define mammal class as child class  \n",
    "    def aMammal(self):  \n",
    "        if self.amammals:   \n",
    "            print(\"The given animal is a mammal type .\")  \n",
    "  \n",
    "    # define domestic class as child class  \n",
    "    def aDomestic(self):  \n",
    "        if self.adomestic:  \n",
    "            print(\"The given animal is a domestic animal type.\")  \n",
    "# define dog class    \n",
    "class Dog(Animalia):  \n",
    "    def __init__(self):  \n",
    "        super().__init__() # using super() function to access class methods  \n",
    "  \n",
    "    def isMammal(self):  \n",
    "        super().aMammal() # using mammal class  \n",
    "  \n",
    "# define cat class  \n",
    "class Cat(Animalia):  \n",
    "    def __init__(self):  \n",
    "        super().__init__()  \n",
    "  \n",
    "    def isMammal(self):  \n",
    "        super().aDomestic() # using domestic class  \n",
    "  \n",
    "# define horse class  \n",
    "class Horse(Animalia):  \n",
    "    def __init__(self):  \n",
    "        super().__init__()  \n",
    "  \n",
    "    def TailandLegs(self): # using tail and legs class  \n",
    "        if self.atail and self.Legs == 4:  \n",
    "            print(\"The given animal has four legs and a tail\")  \n",
    "  \n",
    "# Taking the driver's code for defined classes  \n",
    "Tommy = Dog()  \n",
    "Tommy.aMammal()  \n",
    "Tom = Cat()  \n",
    "Tom.aDomestic()  \n",
    "Burno = Horse()  \n",
    "Burno.TailandLegs()  "
   ]
  },
  {
   "cell_type": "code",
   "execution_count": null,
   "id": "791c3d98",
   "metadata": {},
   "outputs": [],
   "source": []
  }
 ],
 "metadata": {
  "kernelspec": {
   "display_name": "Python 3 (ipykernel)",
   "language": "python",
   "name": "python3"
  },
  "language_info": {
   "codemirror_mode": {
    "name": "ipython",
    "version": 3
   },
   "file_extension": ".py",
   "mimetype": "text/x-python",
   "name": "python",
   "nbconvert_exporter": "python",
   "pygments_lexer": "ipython3",
   "version": "3.11.4"
  }
 },
 "nbformat": 4,
 "nbformat_minor": 5
}
