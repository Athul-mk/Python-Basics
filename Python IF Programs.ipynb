{
 "cells": [
  {
   "cell_type": "code",
   "execution_count": 1,
   "id": "4f8b1ca6",
   "metadata": {},
   "outputs": [
    {
     "name": "stdout",
     "output_type": "stream",
     "text": [
      "not mulitiple of 5\n"
     ]
    }
   ],
   "source": [
    "a=32\n",
    "if(a%5==0):\n",
    "    print(\"mulitiple of 5\")\n",
    "else:\n",
    "    print(\"not mulitiple of 5\")"
   ]
  },
  {
   "cell_type": "code",
   "execution_count": 6,
   "id": "f5a315b8",
   "metadata": {},
   "outputs": [
    {
     "name": "stdout",
     "output_type": "stream",
     "text": [
      "he cant vote\n"
     ]
    }
   ],
   "source": [
    "a=10\n",
    "if(a<18):\n",
    "    print(\"he cant vote\")\n",
    "elif((a>=18) & (a>25)):\n",
    "    print(\"he can vote and contest on election\")\n",
    "else:\n",
    "    print(\"can vote\")\n",
    "\n"
   ]
  },
  {
   "cell_type": "code",
   "execution_count": 2,
   "id": "b3059034",
   "metadata": {},
   "outputs": [
    {
     "name": "stdout",
     "output_type": "stream",
     "text": [
      "it is not a leap year\n"
     ]
    }
   ],
   "source": [
    "a=2029\n",
    "if(a%4==0):\n",
    "    print(\"it is leap year\")\n",
    "else:\n",
    "    print(\"it is not a leap year\")"
   ]
  },
  {
   "cell_type": "code",
   "execution_count": 34,
   "id": "a844d24e",
   "metadata": {},
   "outputs": [
    {
     "name": "stdout",
     "output_type": "stream",
     "text": [
      "2700.0\n"
     ]
    }
   ],
   "source": [
    "a=3000\n",
    "if(a>1000):\n",
    "    discount=a*0.1\n",
    "    amount=a-discount\n",
    "    print(amount)\n",
    "else:\n",
    "    print(\"no discount\")"
   ]
  },
  {
   "cell_type": "code",
   "execution_count": 13,
   "id": "7ac28062",
   "metadata": {},
   "outputs": [
    {
     "name": "stdout",
     "output_type": "stream",
     "text": [
      "enter your number12\n",
      "dec\n"
     ]
    }
   ],
   "source": [
    "a=input(\"enter your number\")\n",
    "if(a==\"1\"):\n",
    "    print(\"jan\")\n",
    "elif(a==\"2\"):\n",
    "    print(\"feb\")\n",
    "elif(a==\"3\"):\n",
    "    print(\"mar\")\n",
    "elif(a==\"4\"):\n",
    "    print(\"apr\")\n",
    "elif(a==\"5\"):\n",
    "    print(\"may\")\n",
    "elif(a==\"6\"):\n",
    "    print(\"jun\")\n",
    "elif(a==\"7\"):\n",
    "    print(\"jul\")\n",
    "elif(a==\"8\"):\n",
    "    print(\"aug\")\n",
    "elif(a==\"9\"):\n",
    "    print(\"sep\")\n",
    "elif(a==\"10\"):\n",
    "    print(\"oct\")\n",
    "elif(a==\"11\"):\n",
    "    print(\"nov\")\n",
    "elif(a==\"12\"):\n",
    "    print(\"dec\")\n",
    "else:\n",
    "    print(\"invalid\")"
   ]
  },
  {
   "cell_type": "code",
   "execution_count": 10,
   "id": "aeb300cd",
   "metadata": {},
   "outputs": [
    {
     "name": "stdout",
     "output_type": "stream",
     "text": [
      "enter color keywordr\n",
      "red\n"
     ]
    }
   ],
   "source": [
    "a=input(\"enter color keyword\")\n",
    "if((a==\"v\")or(a==\"V\")):\n",
    "    print(\"violet\")\n",
    "elif((a==\"i\")or(a==\"I\")):\n",
    "    print(\"indigo\")\n",
    "elif((a==\"b\")or(a==\"B\")):\n",
    "    print(\"blue\")\n",
    "elif((a==\"g\")or(a==\"G\")):\n",
    "    print(\"green\")\n",
    "elif((a==\"y\")or(a==\"Y\")):\n",
    "    print(\"yellow\")\n",
    "elif((a==\"o\")or(a==\"O\")):\n",
    "    print(\"orange\")\n",
    "elif((a==\"r\")or(a==\"R\")):\n",
    "    print(\"red\")\n",
    "else:\n",
    "    print(\"invalid\")"
   ]
  },
  {
   "cell_type": "code",
   "execution_count": null,
   "id": "beee6f53",
   "metadata": {},
   "outputs": [],
   "source": []
  }
 ],
 "metadata": {
  "kernelspec": {
   "display_name": "Python 3 (ipykernel)",
   "language": "python",
   "name": "python3"
  },
  "language_info": {
   "codemirror_mode": {
    "name": "ipython",
    "version": 3
   },
   "file_extension": ".py",
   "mimetype": "text/x-python",
   "name": "python",
   "nbconvert_exporter": "python",
   "pygments_lexer": "ipython3",
   "version": "3.11.4"
  }
 },
 "nbformat": 4,
 "nbformat_minor": 5
}
