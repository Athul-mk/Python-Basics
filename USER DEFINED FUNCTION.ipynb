{
 "cells": [
  {
   "cell_type": "code",
   "execution_count": 1,
   "id": "465170fe",
   "metadata": {},
   "outputs": [
    {
     "name": "stdout",
     "output_type": "stream",
     "text": [
      "hello good morning\n"
     ]
    }
   ],
   "source": [
    "def my_func():\n",
    "    print(\"hello good morning\")\n",
    "my_func()"
   ]
  },
  {
   "cell_type": "code",
   "execution_count": 2,
   "id": "6461cefc",
   "metadata": {},
   "outputs": [
    {
     "name": "stdout",
     "output_type": "stream",
     "text": [
      "10\n"
     ]
    }
   ],
   "source": [
    "def mulitiple(x,y):\n",
    "    return x*y\n",
    "print(mulitiple(5,2))"
   ]
  },
  {
   "cell_type": "code",
   "execution_count": 3,
   "id": "ba6a1342",
   "metadata": {},
   "outputs": [],
   "source": [
    "a=(\"hello\")\n"
   ]
  },
  {
   "cell_type": "code",
   "execution_count": 4,
   "id": "52515319",
   "metadata": {},
   "outputs": [
    {
     "data": {
      "text/plain": [
       "'hello'"
      ]
     },
     "execution_count": 4,
     "metadata": {},
     "output_type": "execute_result"
    }
   ],
   "source": [
    "a.lower()"
   ]
  },
  {
   "cell_type": "code",
   "execution_count": 5,
   "id": "abe8ae45",
   "metadata": {},
   "outputs": [
    {
     "data": {
      "text/plain": [
       "'HELLO'"
      ]
     },
     "execution_count": 5,
     "metadata": {},
     "output_type": "execute_result"
    }
   ],
   "source": [
    "a.upper()"
   ]
  },
  {
   "cell_type": "code",
   "execution_count": 6,
   "id": "4863fdfc",
   "metadata": {},
   "outputs": [
    {
     "name": "stdout",
     "output_type": "stream",
     "text": [
      "enter your nameATHUL M K\n",
      "9\n"
     ]
    }
   ],
   "source": [
    "b=input(\"enter your name\")\n",
    "print(len(b))"
   ]
  },
  {
   "cell_type": "code",
   "execution_count": 13,
   "id": "611d3df8",
   "metadata": {},
   "outputs": [
    {
     "name": "stdout",
     "output_type": "stream",
     "text": [
      "0\n"
     ]
    }
   ],
   "source": [
    "print(a.count(\"a\"))"
   ]
  },
  {
   "cell_type": "code",
   "execution_count": 14,
   "id": "908a930f",
   "metadata": {},
   "outputs": [
    {
     "name": "stdout",
     "output_type": "stream",
     "text": [
      "local variable\n",
      "100\n"
     ]
    }
   ],
   "source": [
    "print(\"local variable\")\n",
    "def myfunc():\n",
    "    x=100\n",
    "    print(x)\n",
    "myfunc()"
   ]
  },
  {
   "cell_type": "code",
   "execution_count": 15,
   "id": "76a6b275",
   "metadata": {},
   "outputs": [
    {
     "name": "stdout",
     "output_type": "stream",
     "text": [
      "global variable\n",
      "100\n",
      "100\n"
     ]
    }
   ],
   "source": [
    "print(\"global variable\")\n",
    "x=100\n",
    "def myfunc():\n",
    "    print(x)\n",
    "myfunc()\n",
    "print(x)"
   ]
  },
  {
   "cell_type": "code",
   "execution_count": 16,
   "id": "3c7662ba",
   "metadata": {},
   "outputs": [
    {
     "data": {
      "text/plain": [
       "10"
      ]
     },
     "execution_count": 16,
     "metadata": {},
     "output_type": "execute_result"
    }
   ],
   "source": [
    "mulitiple(5,2)"
   ]
  },
  {
   "cell_type": "code",
   "execution_count": null,
   "id": "c0be3063",
   "metadata": {},
   "outputs": [],
   "source": []
  },
  {
   "cell_type": "code",
   "execution_count": 11,
   "id": "1d810465",
   "metadata": {},
   "outputs": [
    {
     "data": {
      "text/plain": [
       "100"
      ]
     },
     "execution_count": 11,
     "metadata": {},
     "output_type": "execute_result"
    }
   ],
   "source": [
    "x"
   ]
  },
  {
   "cell_type": "code",
   "execution_count": null,
   "id": "f191330d",
   "metadata": {},
   "outputs": [],
   "source": []
  },
  {
   "cell_type": "code",
   "execution_count": null,
   "id": "e8d716d2",
   "metadata": {},
   "outputs": [],
   "source": [
    "\n",
    "\n"
   ]
  },
  {
   "cell_type": "code",
   "execution_count": 12,
   "id": "e1b8636b",
   "metadata": {},
   "outputs": [
    {
     "ename": "NameError",
     "evalue": "name 'fact' is not defined",
     "output_type": "error",
     "traceback": [
      "\u001b[1;31m---------------------------------------------------------------------------\u001b[0m",
      "\u001b[1;31mNameError\u001b[0m                                 Traceback (most recent call last)",
      "Cell \u001b[1;32mIn[12], line 1\u001b[0m\n\u001b[1;32m----> 1\u001b[0m fact(\u001b[38;5;241m7\u001b[39m)\n",
      "\u001b[1;31mNameError\u001b[0m: name 'fact' is not defined"
     ]
    }
   ],
   "source": [
    "fact(7)"
   ]
  },
  {
   "cell_type": "code",
   "execution_count": null,
   "id": "12c25e03",
   "metadata": {},
   "outputs": [],
   "source": [
    "def fact(a):\n",
    "\n",
    "    b=1\n",
    "    if(a<1):\n",
    "        print(\"the given number is negative\")\n",
    "    elif(a==0):\n",
    "        print(\"factorial of 0 is 1\")\n",
    "    else:\n",
    "        for i in range(1,a+1):\n",
    "            b=b*i\n",
    "        print(b)\n",
    "\n"
   ]
  },
  {
   "cell_type": "code",
   "execution_count": null,
   "id": "967a265c",
   "metadata": {},
   "outputs": [],
   "source": [
    "fact(6)"
   ]
  },
  {
   "cell_type": "code",
   "execution_count": null,
   "id": "34bf5efd",
   "metadata": {},
   "outputs": [],
   "source": [
    "\n",
    "def plus(a,b): \n",
    "    print(a+b)\n",
    "    \n",
    "def minus(c,d):\n",
    "    print(c-d)\n",
    "\n",
    "def divide(e,f):\n",
    "    print(e/f)\n",
    "          \n",
    "def mulitiple(h,g):\n",
    "    print(h*g)\n"
   ]
  },
  {
   "cell_type": "code",
   "execution_count": null,
   "id": "8c2c4d41",
   "metadata": {},
   "outputs": [],
   "source": [
    "def mulitiple(x,y):\n",
    "    return x*y\n",
    "print(mulitiple(5,2))"
   ]
  },
  {
   "cell_type": "code",
   "execution_count": null,
   "id": "64f2cf24",
   "metadata": {},
   "outputs": [],
   "source": [
    "plus(6,6)"
   ]
  },
  {
   "cell_type": "code",
   "execution_count": null,
   "id": "dcbe8ca2",
   "metadata": {},
   "outputs": [],
   "source": [
    "minus(6,6)"
   ]
  },
  {
   "cell_type": "code",
   "execution_count": null,
   "id": "ef9217b7",
   "metadata": {},
   "outputs": [],
   "source": [
    "mulitiple(7,6)"
   ]
  },
  {
   "cell_type": "code",
   "execution_count": null,
   "id": "814165ad",
   "metadata": {},
   "outputs": [],
   "source": [
    "divide(9,10)"
   ]
  },
  {
   "cell_type": "code",
   "execution_count": null,
   "id": "a9eb0e0c",
   "metadata": {},
   "outputs": [],
   "source": []
  },
  {
   "cell_type": "code",
   "execution_count": null,
   "id": "a526423e",
   "metadata": {},
   "outputs": [],
   "source": [
    "divide(6,6)"
   ]
  },
  {
   "cell_type": "code",
   "execution_count": null,
   "id": "7a5a6b1b",
   "metadata": {},
   "outputs": [],
   "source": [
    "mulitiple(2,11)\n",
    "    \n",
    "   \n",
    "        \n",
    "    \n",
    "    "
   ]
  },
  {
   "cell_type": "code",
   "execution_count": null,
   "id": "91efdcd6",
   "metadata": {},
   "outputs": [],
   "source": [
    "def mulitiple(a,b):\n",
    "    \n",
    "    for i in range(0,b):\n",
    "        result = a * i\n",
    "        print(a,\" * \",i,\" = \",result)\n",
    "   \n",
    "    \n",
    "\n"
   ]
  },
  {
   "cell_type": "code",
   "execution_count": null,
   "id": "88c5ef40",
   "metadata": {},
   "outputs": [],
   "source": [
    "mulitiple(2,7)"
   ]
  },
  {
   "cell_type": "code",
   "execution_count": null,
   "id": "6588f516",
   "metadata": {},
   "outputs": [],
   "source": [
    "mulitiple(3,18)"
   ]
  },
  {
   "cell_type": "code",
   "execution_count": 17,
   "id": "bdd92607",
   "metadata": {},
   "outputs": [
    {
     "name": "stdout",
     "output_type": "stream",
     "text": [
      "0\n",
      "1\n",
      "1\n",
      "2\n",
      "3\n",
      "5\n",
      "8\n",
      "13\n",
      "21\n",
      "34\n",
      "55\n",
      "89\n",
      "144\n",
      "233\n",
      "377\n",
      "610\n"
     ]
    }
   ],
   "source": [
    "def fibinocciseries(n):\n",
    "    n1 = 0\n",
    "    n2 = 1\n",
    "    if n == 1:\n",
    "        print(n1)\n",
    "    else:\n",
    "        print(n1)\n",
    "        print(n2)\n",
    "        for i in range(2,n):\n",
    "            t = n1 + n2\n",
    "            n1 = n2\n",
    "            n2 = t\n",
    "            print(t)\n",
    "fibinocciseries(16)\n",
    "        \n",
    "    \n"
   ]
  },
  {
   "cell_type": "code",
   "execution_count": null,
   "id": "0c4379ff",
   "metadata": {},
   "outputs": [],
   "source": []
  }
 ],
 "metadata": {
  "kernelspec": {
   "display_name": "Python 3 (ipykernel)",
   "language": "python",
   "name": "python3"
  },
  "language_info": {
   "codemirror_mode": {
    "name": "ipython",
    "version": 3
   },
   "file_extension": ".py",
   "mimetype": "text/x-python",
   "name": "python",
   "nbconvert_exporter": "python",
   "pygments_lexer": "ipython3",
   "version": "3.11.4"
  }
 },
 "nbformat": 4,
 "nbformat_minor": 5
}
