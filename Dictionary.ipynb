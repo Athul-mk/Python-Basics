{
 "cells": [
  {
   "cell_type": "code",
   "execution_count": null,
   "id": "55d7d86d",
   "metadata": {},
   "outputs": [],
   "source": []
  },
  {
   "cell_type": "code",
   "execution_count": 3,
   "id": "3d9e789f",
   "metadata": {},
   "outputs": [
    {
     "name": "stdout",
     "output_type": "stream",
     "text": [
      "{'name': 'Akshay', 'age': 17, 'class': 12, 'rank': 5, 'school': 'ABC'}\n"
     ]
    }
   ],
   "source": [
    "college={\"name\":\"Akshay\",\"age\":17,\"class\":12,\"rank\":5,\"school\":\"ABC\"}\n",
    "print(college)"
   ]
  },
  {
   "cell_type": "code",
   "execution_count": 6,
   "id": "b457f793",
   "metadata": {},
   "outputs": [
    {
     "data": {
      "text/plain": [
       "'Akshay'"
      ]
     },
     "execution_count": 6,
     "metadata": {},
     "output_type": "execute_result"
    }
   ],
   "source": [
    "college[\"name\"]"
   ]
  },
  {
   "cell_type": "code",
   "execution_count": 9,
   "id": "4554d20f",
   "metadata": {},
   "outputs": [
    {
     "data": {
      "text/plain": [
       "17"
      ]
     },
     "execution_count": 9,
     "metadata": {},
     "output_type": "execute_result"
    }
   ],
   "source": [
    "college[\"age\"]"
   ]
  },
  {
   "cell_type": "code",
   "execution_count": 19,
   "id": "b0a77413",
   "metadata": {},
   "outputs": [
    {
     "name": "stdout",
     "output_type": "stream",
     "text": [
      "{'name': 'Akshay', 'age': 20, 'class': 12, 'rank': 5, 'school': 'ABC', 'location': 'calicut'}\n"
     ]
    }
   ],
   "source": [
    "college[\"age\"]=20\n",
    "print(college)"
   ]
  },
  {
   "cell_type": "code",
   "execution_count": 13,
   "id": "12854226",
   "metadata": {},
   "outputs": [
    {
     "data": {
      "text/plain": [
       "12"
      ]
     },
     "execution_count": 13,
     "metadata": {},
     "output_type": "execute_result"
    }
   ],
   "source": [
    "college[\"class\"]"
   ]
  },
  {
   "cell_type": "code",
   "execution_count": 14,
   "id": "f369c6d7",
   "metadata": {},
   "outputs": [
    {
     "data": {
      "text/plain": [
       "5"
      ]
     },
     "execution_count": 14,
     "metadata": {},
     "output_type": "execute_result"
    }
   ],
   "source": [
    "college[\"rank\"]"
   ]
  },
  {
   "cell_type": "code",
   "execution_count": 15,
   "id": "bfdba2be",
   "metadata": {},
   "outputs": [
    {
     "data": {
      "text/plain": [
       "'ABC'"
      ]
     },
     "execution_count": 15,
     "metadata": {},
     "output_type": "execute_result"
    }
   ],
   "source": [
    "college[\"school\"]"
   ]
  },
  {
   "cell_type": "code",
   "execution_count": 18,
   "id": "5f53feb3",
   "metadata": {},
   "outputs": [
    {
     "name": "stdout",
     "output_type": "stream",
     "text": [
      "{'name': 'Akshay', 'age': 20, 'class': 12, 'rank': 5, 'school': 'ABC', 'location': 'calicut'}\n"
     ]
    }
   ],
   "source": [
    "college[\"location\"]=\"calicut\"\n",
    "print(college)"
   ]
  },
  {
   "cell_type": "code",
   "execution_count": 24,
   "id": "06eb2252",
   "metadata": {},
   "outputs": [
    {
     "name": "stdout",
     "output_type": "stream",
     "text": [
      "{}\n"
     ]
    }
   ],
   "source": [
    "fruits={1:\"apple\",2:\"strawberry\",3:\"orange\",4:\"mango\"}\n",
    "fruits.clear()\n",
    "print(fruits)"
   ]
  },
  {
   "cell_type": "code",
   "execution_count": 28,
   "id": "c4ed173f",
   "metadata": {},
   "outputs": [
    {
     "name": "stdout",
     "output_type": "stream",
     "text": [
      "{1: 'lady finger', 3: 'carrot'}\n"
     ]
    }
   ],
   "source": [
    "vegetables={1:\"lady finger\",2:\"potato\",3:\"carrot\"}\n",
    "vegetables.pop(2)\n",
    "print(vegetables)"
   ]
  },
  {
   "cell_type": "code",
   "execution_count": 32,
   "id": "c004fb2c",
   "metadata": {},
   "outputs": [
    {
     "ename": "NameError",
     "evalue": "name 'vegetables' is not defined",
     "output_type": "error",
     "traceback": [
      "\u001b[1;31m---------------------------------------------------------------------------\u001b[0m",
      "\u001b[1;31mNameError\u001b[0m                                 Traceback (most recent call last)",
      "Cell \u001b[1;32mIn[32], line 1\u001b[0m\n\u001b[1;32m----> 1\u001b[0m \u001b[38;5;28;01mdel\u001b[39;00m(vegetables)\n",
      "\u001b[1;31mNameError\u001b[0m: name 'vegetables' is not defined"
     ]
    }
   ],
   "source": [
    "del(vegetables)\n"
   ]
  },
  {
   "cell_type": "code",
   "execution_count": null,
   "id": "04f93de5",
   "metadata": {},
   "outputs": [],
   "source": []
  }
 ],
 "metadata": {
  "kernelspec": {
   "display_name": "Python 3 (ipykernel)",
   "language": "python",
   "name": "python3"
  },
  "language_info": {
   "codemirror_mode": {
    "name": "ipython",
    "version": 3
   },
   "file_extension": ".py",
   "mimetype": "text/x-python",
   "name": "python",
   "nbconvert_exporter": "python",
   "pygments_lexer": "ipython3",
   "version": "3.11.4"
  }
 },
 "nbformat": 4,
 "nbformat_minor": 5
}
