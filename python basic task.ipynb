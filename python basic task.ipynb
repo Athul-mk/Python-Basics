{
 "cells": [
  {
   "cell_type": "code",
   "execution_count": 1,
   "id": "dc564465",
   "metadata": {},
   "outputs": [],
   "source": [
    "x=10"
   ]
  },
  {
   "cell_type": "code",
   "execution_count": 2,
   "id": "ac45a777",
   "metadata": {},
   "outputs": [
    {
     "data": {
      "text/plain": [
       "10"
      ]
     },
     "execution_count": 2,
     "metadata": {},
     "output_type": "execute_result"
    }
   ],
   "source": [
    "x"
   ]
  },
  {
   "cell_type": "code",
   "execution_count": 3,
   "id": "8bc91135",
   "metadata": {},
   "outputs": [
    {
     "name": "stdout",
     "output_type": "stream",
     "text": [
      "Enter your first number5\n",
      "Enter your second number6\n",
      "enter your operator/\n",
      "0.8333333333333334\n"
     ]
    }
   ],
   "source": [
    "x=int(input(\"Enter your first number\"))\n",
    "y=int(input(\"Enter your second number\"))\n",
    "z=input(\"enter your operator\")\n",
    "if(z==\"+\"):\n",
    "    print(x+y)\n",
    "elif(z==\"-\"):\n",
    "    print(x-y)\n",
    "elif(z==\"*\"):\n",
    "    print(x*y)\n",
    "else:\n",
    "    print(x/y)"
   ]
  },
  {
   "cell_type": "code",
   "execution_count": 1,
   "id": "c6ba3711",
   "metadata": {},
   "outputs": [],
   "source": [
    "a=10"
   ]
  },
  {
   "cell_type": "code",
   "execution_count": 2,
   "id": "dbb74b28",
   "metadata": {},
   "outputs": [
    {
     "data": {
      "text/plain": [
       "10"
      ]
     },
     "execution_count": 2,
     "metadata": {},
     "output_type": "execute_result"
    }
   ],
   "source": [
    "a"
   ]
  },
  {
   "cell_type": "code",
   "execution_count": null,
   "id": "b2d34386",
   "metadata": {},
   "outputs": [],
   "source": [
    "a=1"
   ]
  }
 ],
 "metadata": {
  "kernelspec": {
   "display_name": "Python 3 (ipykernel)",
   "language": "python",
   "name": "python3"
  },
  "language_info": {
   "codemirror_mode": {
    "name": "ipython",
    "version": 3
   },
   "file_extension": ".py",
   "mimetype": "text/x-python",
   "name": "python",
   "nbconvert_exporter": "python",
   "pygments_lexer": "ipython3",
   "version": "3.11.4"
  }
 },
 "nbformat": 4,
 "nbformat_minor": 5
}
