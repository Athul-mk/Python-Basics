{
 "cells": [
  {
   "cell_type": "code",
   "execution_count": 36,
   "id": "8dc77c4f",
   "metadata": {},
   "outputs": [
    {
     "name": "stdout",
     "output_type": "stream",
     "text": [
      "Enter the age for vote 19\n",
      "eligible for vote\n"
     ]
    }
   ],
   "source": [
    "age=int(input(\"Enter the age for vote \"))\n",
    "if(age>=18):\n",
    "    print(\"eligible for vote\")\n",
    "else:\n",
    "    print(\"not eligible for vote\")"
   ]
  },
  {
   "cell_type": "code",
   "execution_count": 11,
   "id": "48b57876",
   "metadata": {},
   "outputs": [
    {
     "name": "stdout",
     "output_type": "stream",
     "text": [
      "enter the number 50\n",
      "it is not divisible by 7\n"
     ]
    }
   ],
   "source": [
    "a=int(input(\"enter the number \" ))\n",
    "if(a%7==0):\n",
    "    print(\"it is divisible by 7\")\n",
    "else:\n",
    "    print(\"it is not divisible by 7\")"
   ]
  },
  {
   "cell_type": "code",
   "execution_count": 15,
   "id": "1b4ad10c",
   "metadata": {},
   "outputs": [
    {
     "name": "stdout",
     "output_type": "stream",
     "text": [
      "enter the mulitiple of 5 : 15\n",
      "hello\n"
     ]
    }
   ],
   "source": [
    "a=int(input(\"enter the mulitiple of 5 : \"))\n",
    "if(a%5==0):\n",
    "    print(\"hello\")\n",
    "else:\n",
    "    print(\"Bye\")"
   ]
  },
  {
   "cell_type": "markdown",
   "id": "bab14558",
   "metadata": {},
   "source": []
  },
  {
   "cell_type": "code",
   "execution_count": 35,
   "id": "50f498e3",
   "metadata": {},
   "outputs": [
    {
     "name": "stdout",
     "output_type": "stream",
     "text": [
      "enter the number from 1 to 7: 8\n",
      "invalid\n"
     ]
    }
   ],
   "source": [
    "a=input(\"enter the number from 1 to 7: \")\n",
    "if(a==\"1\"):\n",
    "    print(\"sunday\")\n",
    "elif(a==\"2\"):\n",
    "    print(\"monday\")\n",
    "elif(a==\"3\"):\n",
    "    print(\"tuesday\")\n",
    "elif(a==\"4\"):\n",
    "    print(\"wenesday\")\n",
    "elif(a==\"5\"):\n",
    "    print(\"thursday\")\n",
    "elif(a==\"6\"):\n",
    "    print(\"friday\")\n",
    "elif(a==\"7\"):\n",
    "    print(\"saturday\")\n",
    "else:\n",
    "    print(\"invalid\")"
   ]
  },
  {
   "cell_type": "code",
   "execution_count": null,
   "id": "3b35f825",
   "metadata": {},
   "outputs": [],
   "source": []
  }
 ],
 "metadata": {
  "kernelspec": {
   "display_name": "Python 3 (ipykernel)",
   "language": "python",
   "name": "python3"
  },
  "language_info": {
   "codemirror_mode": {
    "name": "ipython",
    "version": 3
   },
   "file_extension": ".py",
   "mimetype": "text/x-python",
   "name": "python",
   "nbconvert_exporter": "python",
   "pygments_lexer": "ipython3",
   "version": "3.11.4"
  }
 },
 "nbformat": 4,
 "nbformat_minor": 5
}
