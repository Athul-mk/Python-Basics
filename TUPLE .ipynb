{
 "cells": [
  {
   "cell_type": "code",
   "execution_count": 1,
   "id": "7f9da3a3",
   "metadata": {},
   "outputs": [
    {
     "name": "stdout",
     "output_type": "stream",
     "text": [
      "(123, 456, 789, 'today', 'tommorrow', 'yesterday')\n"
     ]
    }
   ],
   "source": [
    "number=(123,456,789,\"today\",\"tommorrow\",\"yesterday\")\n",
    "print(number)"
   ]
  },
  {
   "cell_type": "code",
   "execution_count": 2,
   "id": "e5281ebe",
   "metadata": {},
   "outputs": [
    {
     "name": "stdout",
     "output_type": "stream",
     "text": [
      "1.234\n"
     ]
    }
   ],
   "source": [
    "value=(1.234)\n",
    "print(value)"
   ]
  },
  {
   "cell_type": "code",
   "execution_count": 3,
   "id": "ee97a368",
   "metadata": {},
   "outputs": [
    {
     "name": "stdout",
     "output_type": "stream",
     "text": [
      "(7.89,)\n"
     ]
    }
   ],
   "source": [
    "a=(7.890,)\n",
    "print(a)\n"
   ]
  },
  {
   "cell_type": "code",
   "execution_count": 4,
   "id": "55696016",
   "metadata": {},
   "outputs": [
    {
     "name": "stdout",
     "output_type": "stream",
     "text": [
      "('hii', 'today', 'yesterday', 'hello', 'good morning', 'good afternoon')\n"
     ]
    }
   ],
   "source": [
    "b=(\"hii\",\"today\",\"yesterday\")\n",
    "c=(\"hello\",\"good morning\",\"good afternoon\")\n",
    "d=b+c\n",
    "print(d)"
   ]
  },
  {
   "cell_type": "code",
   "execution_count": 5,
   "id": "ed7e439e",
   "metadata": {},
   "outputs": [
    {
     "name": "stdout",
     "output_type": "stream",
     "text": [
      "6\n"
     ]
    }
   ],
   "source": [
    "print(len(d))"
   ]
  },
  {
   "cell_type": "code",
   "execution_count": 6,
   "id": "bc99d95d",
   "metadata": {},
   "outputs": [
    {
     "data": {
      "text/plain": [
       "'good afternoon'"
      ]
     },
     "execution_count": 6,
     "metadata": {},
     "output_type": "execute_result"
    }
   ],
   "source": [
    "min(d)"
   ]
  },
  {
   "cell_type": "code",
   "execution_count": 7,
   "id": "0d8eeb50",
   "metadata": {},
   "outputs": [
    {
     "data": {
      "text/plain": [
       "'yesterday'"
      ]
     },
     "execution_count": 7,
     "metadata": {},
     "output_type": "execute_result"
    }
   ],
   "source": [
    "max(d)"
   ]
  },
  {
   "cell_type": "code",
   "execution_count": 8,
   "id": "31a95935",
   "metadata": {},
   "outputs": [
    {
     "name": "stdout",
     "output_type": "stream",
     "text": [
      "1\n"
     ]
    }
   ],
   "source": [
    "print(d.count(\"hii\"))"
   ]
  },
  {
   "cell_type": "code",
   "execution_count": 9,
   "id": "5436ba29",
   "metadata": {},
   "outputs": [
    {
     "name": "stdout",
     "output_type": "stream",
     "text": [
      "yesterday\n"
     ]
    }
   ],
   "source": [
    "print(d[2])"
   ]
  },
  {
   "cell_type": "code",
   "execution_count": 10,
   "id": "41e20502",
   "metadata": {},
   "outputs": [
    {
     "name": "stdout",
     "output_type": "stream",
     "text": [
      "()\n"
     ]
    }
   ],
   "source": [
    "a=()\n",
    "print(a)"
   ]
  },
  {
   "cell_type": "code",
   "execution_count": 11,
   "id": "e3874425",
   "metadata": {},
   "outputs": [],
   "source": [
    "del a\n"
   ]
  },
  {
   "cell_type": "code",
   "execution_count": 12,
   "id": "8439d2bd",
   "metadata": {},
   "outputs": [
    {
     "ename": "NameError",
     "evalue": "name 'a' is not defined",
     "output_type": "error",
     "traceback": [
      "\u001b[1;31m---------------------------------------------------------------------------\u001b[0m",
      "\u001b[1;31mNameError\u001b[0m                                 Traceback (most recent call last)",
      "Cell \u001b[1;32mIn[12], line 1\u001b[0m\n\u001b[1;32m----> 1\u001b[0m \u001b[38;5;28mprint\u001b[39m(a)\n",
      "\u001b[1;31mNameError\u001b[0m: name 'a' is not defined"
     ]
    }
   ],
   "source": [
    "print(a)"
   ]
  },
  {
   "cell_type": "code",
   "execution_count": null,
   "id": "b106080a",
   "metadata": {},
   "outputs": [],
   "source": []
  }
 ],
 "metadata": {
  "kernelspec": {
   "display_name": "Python 3 (ipykernel)",
   "language": "python",
   "name": "python3"
  },
  "language_info": {
   "codemirror_mode": {
    "name": "ipython",
    "version": 3
   },
   "file_extension": ".py",
   "mimetype": "text/x-python",
   "name": "python",
   "nbconvert_exporter": "python",
   "pygments_lexer": "ipython3",
   "version": "3.11.4"
  }
 },
 "nbformat": 4,
 "nbformat_minor": 5
}
